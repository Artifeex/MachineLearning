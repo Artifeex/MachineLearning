{
  "nbformat": 4,
  "nbformat_minor": 0,
  "metadata": {
    "colab": {
      "provenance": [],
      "collapsed_sections": [
        "Y-P9fu7eK9Wj",
        "6qdAOH54Eol7",
        "NmSR4FhIE9ol",
        "pdH6dUzyjWp_",
        "EGkqroNRmv-Z",
        "8Qpz8V58rUuI",
        "K3xvQssuy1zL",
        "H-6Q971G45nE"
      ],
      "authorship_tag": "ABX9TyPzsaoYjABJx5O+bo9K7G6A",
      "include_colab_link": true
    },
    "kernelspec": {
      "name": "python3",
      "display_name": "Python 3"
    },
    "language_info": {
      "name": "python"
    }
  },
  "cells": [
    {
      "cell_type": "markdown",
      "metadata": {
        "id": "view-in-github",
        "colab_type": "text"
      },
      "source": [
        "<a href=\"https://colab.research.google.com/github/Artifeex/MachineLearning/blob/main/ML_HOMEWORK.ipynb\" target=\"_parent\"><img src=\"https://colab.research.google.com/assets/colab-badge.svg\" alt=\"Open In Colab\"/></a>"
      ]
    },
    {
      "cell_type": "code",
      "execution_count": 1,
      "metadata": {
        "id": "RfCQRq8h26MI"
      },
      "outputs": [],
      "source": [
        "import numpy as np\n",
        "import matplotlib.pyplot as plt\n",
        "import pandas as pd\n",
        "import sklearn\n",
        "import seaborn as sns"
      ]
    },
    {
      "cell_type": "markdown",
      "source": [
        "# Исследование факторов, влияющих на возникновение сердечно-сосудистых заболеваний"
      ],
      "metadata": {
        "id": "PW5b5zVtKi4a"
      }
    },
    {
      "cell_type": "markdown",
      "source": [
        "## 1. Описание задачи"
      ],
      "metadata": {
        "id": "pm1WOy6mKxEl"
      }
    },
    {
      "cell_type": "markdown",
      "source": [
        "Какие привычки и образ жизни способствуют профилактике сердечно-сосудистых заболеваний? Какие же, наоборот, увеличивают риск их возникновения? На эти и другие вопросы мы попытаемся дать ответ, исследовав данный датасет, основанный на данных опроса, проведенного Центром по контролю и профилактике заболеваний (CDC). В опросе участвовали более 400 тысяч взрослых, которые делились информацией о своем здоровье, питании, физической активности, курении, алкоголе и других аспектах своей повседневной жизни. Исследуя этот датасет, мы можем попытаться выявить, какие факторы наиболее сильно коррелируют с наличием или отсутствием сердечно-сосудистых заболеваний у респондентов, а также построить модель, которая может предсказать вероятность таких заболеваний на основе данных опроса. Это может помочь нам понять, как лучше заботиться о своем сердце и сосудах, а также как определить свой уровень риска и принять необходимые меры для его снижения.\n",
        "\n",
        "### Цель:\n",
        "* На основе информации о человеке определить наличие у него сердечно-сосудистых заболеваний.\n",
        "\n",
        "### Описание датасета:\n",
        "* Всего данных: 445132\n",
        "* Процент пропущенных значений: 5%\n",
        "* Количество признаков: 40\n",
        "* Количество классов: 2\n",
        "* Несбалансированные классы: 94% - не имеют сердечно-сосудистых заболеваний на момент опроса, 6% - имеют\n",
        "\n",
        "### Описание признаков:\n",
        "* State - Штат, в котором проживает человек (категориальный)\n",
        "* Sex - Пол (категориальный)\n",
        "* GeneralHealth - Общее состояние здоровья (категориальный)\n",
        "* PhysicalHealthDays - Количество дней за последние 30 дней, когда человек чувствовал себя физически плохо (количественный)\n",
        "* MentalHealthDays - Количество дней за последние 30 дней, когда человек чувствовал себя психически плохо (количественный)\n",
        "* LastCheckupTime - Когда был последний медицинский осмотр (категориальный)\n",
        "* PhysicalActivities - Ведет ли человек активный образ жизни (бинарный)\n",
        "* SleepHours - Среднее время сна (количественный)\n",
        "* RemovedTeeth - Количество удаленных зубов (категориальный)\n",
        "* HadHeartAttack - Были ли сердечно-сосудистые заболевания (бинарный)\n",
        "* HadAngina - Была ли стенокардия - (бинарный)\n",
        "* HadStroke - Был ли инсульт - (бинарный)\n",
        "* HadAsthma - Была ли астма - (бинарный)\n",
        "* HadSkinCancer - Был ли рак кожи (бинарный)\n",
        "* HadCOPD - Была ли хроническая обструктивная болезнь легких (бинарный)\n",
        "* HadDepressiveDisorder - Была ли депрессия (бинарный)\n",
        "* HadKidneyDisease - Была ли болезнь почек (бинарный)\n",
        "* HadArthritis - Был ли артрит (бинарный)\n",
        "* HadDiabetes - Был ли диабет (категориальный)\n",
        "* DeafOrHardOfHearing - Есть ли проблемы со слухом (бинарный)\n",
        "* BlindOrVisionDifficulty - Имеет ли проблемы со зрением или слепоту (бинарный)\n",
        "* DifficultyConcentrating - Есть ли проблемы с концентрацией (бинарный)\n",
        "* DifficultyWalking - Есть ли трудности с ходьбой (бинарный)\n",
        "* DifficultyDressingBathing - Есть ли трудности с одеванием или купанием ?(бинарный)\n",
        "* DifficultyErrands - Есть ли трудности с выполнением поручений (бинарный)\n",
        "* SmokerStatus - Отношение к курению(курит, бросил и т.д.) (категориальный)\n",
        "* ECigaretteUsage - Использует ли электронные сигареты (категориальный)\n",
        "* ChestScan - Делал ли сканирование органов грудной клетки (бинарный)\n",
        "* RaceEthnicityCategory - Раса и этническая принадлежность (категориальный)\n",
        "* AgeCategory - К какой возрастной категории относится (категориальный)\n",
        "* HeightInMeters - Рост в метрах (количественный)\n",
        "* WeightInKilograms - Вес в килограммах (количественный)\n",
        "* BMI - Индекс массы тела (количественный)\n",
        "* AlcoholDrinkers - Пьет ли алкоголь (бинарный)\n",
        "* HIVTesting - Положительный или отрицательный тест на ВИЧ (бинарный)\n",
        "* FluVaxLast12 - Делал ли прививку от гриппа за последние 12 месяцев (бинарный)\n",
        "* PneumoVaxEver - Делал ли прививку от пневмококка когда-либо (бинарный)\n",
        "* TetanusLast10Tdap - Делал ли прививку от столбняка за последние 10 лет (категориальный)\n",
        "* HighRiskLastYear - Был ли в высокой группе риска заболеваний сердца в течение последнего года (бинарный)\n",
        "* CovidPos - Результат теста на COVID (категориальный)\n",
        "\n",
        "\n"
      ],
      "metadata": {
        "id": "Y-P9fu7eK9Wj"
      }
    },
    {
      "cell_type": "markdown",
      "source": [
        "## 2. Чтение данных"
      ],
      "metadata": {
        "id": "6qdAOH54Eol7"
      }
    },
    {
      "cell_type": "code",
      "source": [
        "url = \"https://media.githubusercontent.com/media/Artifeex/MachineLearning/main/heart_2022_with_nans.csv\"\n",
        "data_raw = pd.read_csv(url)"
      ],
      "metadata": {
        "id": "8SpeZYJjEt2Z"
      },
      "execution_count": 2,
      "outputs": []
    },
    {
      "cell_type": "code",
      "source": [
        "data_raw.shape # 445132 - строк, 40 - столбцов"
      ],
      "metadata": {
        "colab": {
          "base_uri": "https://localhost:8080/"
        },
        "id": "kXXxexSEFqzb",
        "outputId": "0a4a034d-d2f8-4569-862d-3d7a0efb9a53"
      },
      "execution_count": 3,
      "outputs": [
        {
          "output_type": "execute_result",
          "data": {
            "text/plain": [
              "(445132, 40)"
            ]
          },
          "metadata": {},
          "execution_count": 3
        }
      ]
    },
    {
      "cell_type": "code",
      "source": [
        "data_raw.head(5) # первые 5 строк нашей таблицы"
      ],
      "metadata": {
        "colab": {
          "base_uri": "https://localhost:8080/",
          "height": 429
        },
        "id": "UBoPZXzHF-lf",
        "outputId": "58e93dba-c104-4ccb-822b-c37f8b4b341a"
      },
      "execution_count": 4,
      "outputs": [
        {
          "output_type": "execute_result",
          "data": {
            "text/plain": [
              "     State     Sex GeneralHealth  PhysicalHealthDays  MentalHealthDays  \\\n",
              "0  Alabama  Female     Very good                 0.0               0.0   \n",
              "1  Alabama  Female     Excellent                 0.0               0.0   \n",
              "2  Alabama  Female     Very good                 2.0               3.0   \n",
              "3  Alabama  Female     Excellent                 0.0               0.0   \n",
              "4  Alabama  Female          Fair                 2.0               0.0   \n",
              "\n",
              "                                     LastCheckupTime PhysicalActivities  \\\n",
              "0  Within past year (anytime less than 12 months ...                 No   \n",
              "1                                                NaN                 No   \n",
              "2  Within past year (anytime less than 12 months ...                Yes   \n",
              "3  Within past year (anytime less than 12 months ...                Yes   \n",
              "4  Within past year (anytime less than 12 months ...                Yes   \n",
              "\n",
              "   SleepHours RemovedTeeth HadHeartAttack  ... HeightInMeters  \\\n",
              "0         8.0          NaN             No  ...            NaN   \n",
              "1         6.0          NaN             No  ...           1.60   \n",
              "2         5.0          NaN             No  ...           1.57   \n",
              "3         7.0          NaN             No  ...           1.65   \n",
              "4         9.0          NaN             No  ...           1.57   \n",
              "\n",
              "  WeightInKilograms    BMI AlcoholDrinkers HIVTesting FluVaxLast12  \\\n",
              "0               NaN    NaN              No         No          Yes   \n",
              "1             68.04  26.57              No         No           No   \n",
              "2             63.50  25.61              No         No           No   \n",
              "3             63.50  23.30              No         No          Yes   \n",
              "4             53.98  21.77             Yes         No           No   \n",
              "\n",
              "  PneumoVaxEver                                  TetanusLast10Tdap  \\\n",
              "0            No  Yes, received tetanus shot but not sure what type   \n",
              "1            No  No, did not receive any tetanus shot in the pa...   \n",
              "2            No                                                NaN   \n",
              "3           Yes  No, did not receive any tetanus shot in the pa...   \n",
              "4           Yes  No, did not receive any tetanus shot in the pa...   \n",
              "\n",
              "  HighRiskLastYear CovidPos  \n",
              "0               No       No  \n",
              "1               No       No  \n",
              "2               No      Yes  \n",
              "3               No       No  \n",
              "4               No       No  \n",
              "\n",
              "[5 rows x 40 columns]"
            ],
            "text/html": [
              "\n",
              "  <div id=\"df-113c98f3-b088-4711-a01c-c4423b8e27c5\" class=\"colab-df-container\">\n",
              "    <div>\n",
              "<style scoped>\n",
              "    .dataframe tbody tr th:only-of-type {\n",
              "        vertical-align: middle;\n",
              "    }\n",
              "\n",
              "    .dataframe tbody tr th {\n",
              "        vertical-align: top;\n",
              "    }\n",
              "\n",
              "    .dataframe thead th {\n",
              "        text-align: right;\n",
              "    }\n",
              "</style>\n",
              "<table border=\"1\" class=\"dataframe\">\n",
              "  <thead>\n",
              "    <tr style=\"text-align: right;\">\n",
              "      <th></th>\n",
              "      <th>State</th>\n",
              "      <th>Sex</th>\n",
              "      <th>GeneralHealth</th>\n",
              "      <th>PhysicalHealthDays</th>\n",
              "      <th>MentalHealthDays</th>\n",
              "      <th>LastCheckupTime</th>\n",
              "      <th>PhysicalActivities</th>\n",
              "      <th>SleepHours</th>\n",
              "      <th>RemovedTeeth</th>\n",
              "      <th>HadHeartAttack</th>\n",
              "      <th>...</th>\n",
              "      <th>HeightInMeters</th>\n",
              "      <th>WeightInKilograms</th>\n",
              "      <th>BMI</th>\n",
              "      <th>AlcoholDrinkers</th>\n",
              "      <th>HIVTesting</th>\n",
              "      <th>FluVaxLast12</th>\n",
              "      <th>PneumoVaxEver</th>\n",
              "      <th>TetanusLast10Tdap</th>\n",
              "      <th>HighRiskLastYear</th>\n",
              "      <th>CovidPos</th>\n",
              "    </tr>\n",
              "  </thead>\n",
              "  <tbody>\n",
              "    <tr>\n",
              "      <th>0</th>\n",
              "      <td>Alabama</td>\n",
              "      <td>Female</td>\n",
              "      <td>Very good</td>\n",
              "      <td>0.0</td>\n",
              "      <td>0.0</td>\n",
              "      <td>Within past year (anytime less than 12 months ...</td>\n",
              "      <td>No</td>\n",
              "      <td>8.0</td>\n",
              "      <td>NaN</td>\n",
              "      <td>No</td>\n",
              "      <td>...</td>\n",
              "      <td>NaN</td>\n",
              "      <td>NaN</td>\n",
              "      <td>NaN</td>\n",
              "      <td>No</td>\n",
              "      <td>No</td>\n",
              "      <td>Yes</td>\n",
              "      <td>No</td>\n",
              "      <td>Yes, received tetanus shot but not sure what type</td>\n",
              "      <td>No</td>\n",
              "      <td>No</td>\n",
              "    </tr>\n",
              "    <tr>\n",
              "      <th>1</th>\n",
              "      <td>Alabama</td>\n",
              "      <td>Female</td>\n",
              "      <td>Excellent</td>\n",
              "      <td>0.0</td>\n",
              "      <td>0.0</td>\n",
              "      <td>NaN</td>\n",
              "      <td>No</td>\n",
              "      <td>6.0</td>\n",
              "      <td>NaN</td>\n",
              "      <td>No</td>\n",
              "      <td>...</td>\n",
              "      <td>1.60</td>\n",
              "      <td>68.04</td>\n",
              "      <td>26.57</td>\n",
              "      <td>No</td>\n",
              "      <td>No</td>\n",
              "      <td>No</td>\n",
              "      <td>No</td>\n",
              "      <td>No, did not receive any tetanus shot in the pa...</td>\n",
              "      <td>No</td>\n",
              "      <td>No</td>\n",
              "    </tr>\n",
              "    <tr>\n",
              "      <th>2</th>\n",
              "      <td>Alabama</td>\n",
              "      <td>Female</td>\n",
              "      <td>Very good</td>\n",
              "      <td>2.0</td>\n",
              "      <td>3.0</td>\n",
              "      <td>Within past year (anytime less than 12 months ...</td>\n",
              "      <td>Yes</td>\n",
              "      <td>5.0</td>\n",
              "      <td>NaN</td>\n",
              "      <td>No</td>\n",
              "      <td>...</td>\n",
              "      <td>1.57</td>\n",
              "      <td>63.50</td>\n",
              "      <td>25.61</td>\n",
              "      <td>No</td>\n",
              "      <td>No</td>\n",
              "      <td>No</td>\n",
              "      <td>No</td>\n",
              "      <td>NaN</td>\n",
              "      <td>No</td>\n",
              "      <td>Yes</td>\n",
              "    </tr>\n",
              "    <tr>\n",
              "      <th>3</th>\n",
              "      <td>Alabama</td>\n",
              "      <td>Female</td>\n",
              "      <td>Excellent</td>\n",
              "      <td>0.0</td>\n",
              "      <td>0.0</td>\n",
              "      <td>Within past year (anytime less than 12 months ...</td>\n",
              "      <td>Yes</td>\n",
              "      <td>7.0</td>\n",
              "      <td>NaN</td>\n",
              "      <td>No</td>\n",
              "      <td>...</td>\n",
              "      <td>1.65</td>\n",
              "      <td>63.50</td>\n",
              "      <td>23.30</td>\n",
              "      <td>No</td>\n",
              "      <td>No</td>\n",
              "      <td>Yes</td>\n",
              "      <td>Yes</td>\n",
              "      <td>No, did not receive any tetanus shot in the pa...</td>\n",
              "      <td>No</td>\n",
              "      <td>No</td>\n",
              "    </tr>\n",
              "    <tr>\n",
              "      <th>4</th>\n",
              "      <td>Alabama</td>\n",
              "      <td>Female</td>\n",
              "      <td>Fair</td>\n",
              "      <td>2.0</td>\n",
              "      <td>0.0</td>\n",
              "      <td>Within past year (anytime less than 12 months ...</td>\n",
              "      <td>Yes</td>\n",
              "      <td>9.0</td>\n",
              "      <td>NaN</td>\n",
              "      <td>No</td>\n",
              "      <td>...</td>\n",
              "      <td>1.57</td>\n",
              "      <td>53.98</td>\n",
              "      <td>21.77</td>\n",
              "      <td>Yes</td>\n",
              "      <td>No</td>\n",
              "      <td>No</td>\n",
              "      <td>Yes</td>\n",
              "      <td>No, did not receive any tetanus shot in the pa...</td>\n",
              "      <td>No</td>\n",
              "      <td>No</td>\n",
              "    </tr>\n",
              "  </tbody>\n",
              "</table>\n",
              "<p>5 rows × 40 columns</p>\n",
              "</div>\n",
              "    <div class=\"colab-df-buttons\">\n",
              "\n",
              "  <div class=\"colab-df-container\">\n",
              "    <button class=\"colab-df-convert\" onclick=\"convertToInteractive('df-113c98f3-b088-4711-a01c-c4423b8e27c5')\"\n",
              "            title=\"Convert this dataframe to an interactive table.\"\n",
              "            style=\"display:none;\">\n",
              "\n",
              "  <svg xmlns=\"http://www.w3.org/2000/svg\" height=\"24px\" viewBox=\"0 -960 960 960\">\n",
              "    <path d=\"M120-120v-720h720v720H120Zm60-500h600v-160H180v160Zm220 220h160v-160H400v160Zm0 220h160v-160H400v160ZM180-400h160v-160H180v160Zm440 0h160v-160H620v160ZM180-180h160v-160H180v160Zm440 0h160v-160H620v160Z\"/>\n",
              "  </svg>\n",
              "    </button>\n",
              "\n",
              "  <style>\n",
              "    .colab-df-container {\n",
              "      display:flex;\n",
              "      gap: 12px;\n",
              "    }\n",
              "\n",
              "    .colab-df-convert {\n",
              "      background-color: #E8F0FE;\n",
              "      border: none;\n",
              "      border-radius: 50%;\n",
              "      cursor: pointer;\n",
              "      display: none;\n",
              "      fill: #1967D2;\n",
              "      height: 32px;\n",
              "      padding: 0 0 0 0;\n",
              "      width: 32px;\n",
              "    }\n",
              "\n",
              "    .colab-df-convert:hover {\n",
              "      background-color: #E2EBFA;\n",
              "      box-shadow: 0px 1px 2px rgba(60, 64, 67, 0.3), 0px 1px 3px 1px rgba(60, 64, 67, 0.15);\n",
              "      fill: #174EA6;\n",
              "    }\n",
              "\n",
              "    .colab-df-buttons div {\n",
              "      margin-bottom: 4px;\n",
              "    }\n",
              "\n",
              "    [theme=dark] .colab-df-convert {\n",
              "      background-color: #3B4455;\n",
              "      fill: #D2E3FC;\n",
              "    }\n",
              "\n",
              "    [theme=dark] .colab-df-convert:hover {\n",
              "      background-color: #434B5C;\n",
              "      box-shadow: 0px 1px 3px 1px rgba(0, 0, 0, 0.15);\n",
              "      filter: drop-shadow(0px 1px 2px rgba(0, 0, 0, 0.3));\n",
              "      fill: #FFFFFF;\n",
              "    }\n",
              "  </style>\n",
              "\n",
              "    <script>\n",
              "      const buttonEl =\n",
              "        document.querySelector('#df-113c98f3-b088-4711-a01c-c4423b8e27c5 button.colab-df-convert');\n",
              "      buttonEl.style.display =\n",
              "        google.colab.kernel.accessAllowed ? 'block' : 'none';\n",
              "\n",
              "      async function convertToInteractive(key) {\n",
              "        const element = document.querySelector('#df-113c98f3-b088-4711-a01c-c4423b8e27c5');\n",
              "        const dataTable =\n",
              "          await google.colab.kernel.invokeFunction('convertToInteractive',\n",
              "                                                    [key], {});\n",
              "        if (!dataTable) return;\n",
              "\n",
              "        const docLinkHtml = 'Like what you see? Visit the ' +\n",
              "          '<a target=\"_blank\" href=https://colab.research.google.com/notebooks/data_table.ipynb>data table notebook</a>'\n",
              "          + ' to learn more about interactive tables.';\n",
              "        element.innerHTML = '';\n",
              "        dataTable['output_type'] = 'display_data';\n",
              "        await google.colab.output.renderOutput(dataTable, element);\n",
              "        const docLink = document.createElement('div');\n",
              "        docLink.innerHTML = docLinkHtml;\n",
              "        element.appendChild(docLink);\n",
              "      }\n",
              "    </script>\n",
              "  </div>\n",
              "\n",
              "\n",
              "<div id=\"df-57bbcb07-0497-4c73-93b8-b8c9c78e615c\">\n",
              "  <button class=\"colab-df-quickchart\" onclick=\"quickchart('df-57bbcb07-0497-4c73-93b8-b8c9c78e615c')\"\n",
              "            title=\"Suggest charts\"\n",
              "            style=\"display:none;\">\n",
              "\n",
              "<svg xmlns=\"http://www.w3.org/2000/svg\" height=\"24px\"viewBox=\"0 0 24 24\"\n",
              "     width=\"24px\">\n",
              "    <g>\n",
              "        <path d=\"M19 3H5c-1.1 0-2 .9-2 2v14c0 1.1.9 2 2 2h14c1.1 0 2-.9 2-2V5c0-1.1-.9-2-2-2zM9 17H7v-7h2v7zm4 0h-2V7h2v10zm4 0h-2v-4h2v4z\"/>\n",
              "    </g>\n",
              "</svg>\n",
              "  </button>\n",
              "\n",
              "<style>\n",
              "  .colab-df-quickchart {\n",
              "      --bg-color: #E8F0FE;\n",
              "      --fill-color: #1967D2;\n",
              "      --hover-bg-color: #E2EBFA;\n",
              "      --hover-fill-color: #174EA6;\n",
              "      --disabled-fill-color: #AAA;\n",
              "      --disabled-bg-color: #DDD;\n",
              "  }\n",
              "\n",
              "  [theme=dark] .colab-df-quickchart {\n",
              "      --bg-color: #3B4455;\n",
              "      --fill-color: #D2E3FC;\n",
              "      --hover-bg-color: #434B5C;\n",
              "      --hover-fill-color: #FFFFFF;\n",
              "      --disabled-bg-color: #3B4455;\n",
              "      --disabled-fill-color: #666;\n",
              "  }\n",
              "\n",
              "  .colab-df-quickchart {\n",
              "    background-color: var(--bg-color);\n",
              "    border: none;\n",
              "    border-radius: 50%;\n",
              "    cursor: pointer;\n",
              "    display: none;\n",
              "    fill: var(--fill-color);\n",
              "    height: 32px;\n",
              "    padding: 0;\n",
              "    width: 32px;\n",
              "  }\n",
              "\n",
              "  .colab-df-quickchart:hover {\n",
              "    background-color: var(--hover-bg-color);\n",
              "    box-shadow: 0 1px 2px rgba(60, 64, 67, 0.3), 0 1px 3px 1px rgba(60, 64, 67, 0.15);\n",
              "    fill: var(--button-hover-fill-color);\n",
              "  }\n",
              "\n",
              "  .colab-df-quickchart-complete:disabled,\n",
              "  .colab-df-quickchart-complete:disabled:hover {\n",
              "    background-color: var(--disabled-bg-color);\n",
              "    fill: var(--disabled-fill-color);\n",
              "    box-shadow: none;\n",
              "  }\n",
              "\n",
              "  .colab-df-spinner {\n",
              "    border: 2px solid var(--fill-color);\n",
              "    border-color: transparent;\n",
              "    border-bottom-color: var(--fill-color);\n",
              "    animation:\n",
              "      spin 1s steps(1) infinite;\n",
              "  }\n",
              "\n",
              "  @keyframes spin {\n",
              "    0% {\n",
              "      border-color: transparent;\n",
              "      border-bottom-color: var(--fill-color);\n",
              "      border-left-color: var(--fill-color);\n",
              "    }\n",
              "    20% {\n",
              "      border-color: transparent;\n",
              "      border-left-color: var(--fill-color);\n",
              "      border-top-color: var(--fill-color);\n",
              "    }\n",
              "    30% {\n",
              "      border-color: transparent;\n",
              "      border-left-color: var(--fill-color);\n",
              "      border-top-color: var(--fill-color);\n",
              "      border-right-color: var(--fill-color);\n",
              "    }\n",
              "    40% {\n",
              "      border-color: transparent;\n",
              "      border-right-color: var(--fill-color);\n",
              "      border-top-color: var(--fill-color);\n",
              "    }\n",
              "    60% {\n",
              "      border-color: transparent;\n",
              "      border-right-color: var(--fill-color);\n",
              "    }\n",
              "    80% {\n",
              "      border-color: transparent;\n",
              "      border-right-color: var(--fill-color);\n",
              "      border-bottom-color: var(--fill-color);\n",
              "    }\n",
              "    90% {\n",
              "      border-color: transparent;\n",
              "      border-bottom-color: var(--fill-color);\n",
              "    }\n",
              "  }\n",
              "</style>\n",
              "\n",
              "  <script>\n",
              "    async function quickchart(key) {\n",
              "      const quickchartButtonEl =\n",
              "        document.querySelector('#' + key + ' button');\n",
              "      quickchartButtonEl.disabled = true;  // To prevent multiple clicks.\n",
              "      quickchartButtonEl.classList.add('colab-df-spinner');\n",
              "      try {\n",
              "        const charts = await google.colab.kernel.invokeFunction(\n",
              "            'suggestCharts', [key], {});\n",
              "      } catch (error) {\n",
              "        console.error('Error during call to suggestCharts:', error);\n",
              "      }\n",
              "      quickchartButtonEl.classList.remove('colab-df-spinner');\n",
              "      quickchartButtonEl.classList.add('colab-df-quickchart-complete');\n",
              "    }\n",
              "    (() => {\n",
              "      let quickchartButtonEl =\n",
              "        document.querySelector('#df-57bbcb07-0497-4c73-93b8-b8c9c78e615c button');\n",
              "      quickchartButtonEl.style.display =\n",
              "        google.colab.kernel.accessAllowed ? 'block' : 'none';\n",
              "    })();\n",
              "  </script>\n",
              "</div>\n",
              "    </div>\n",
              "  </div>\n"
            ]
          },
          "metadata": {},
          "execution_count": 4
        }
      ]
    },
    {
      "cell_type": "code",
      "source": [
        "data_raw.info()"
      ],
      "metadata": {
        "colab": {
          "base_uri": "https://localhost:8080/"
        },
        "id": "aVYZehWVG9Hy",
        "outputId": "806bc21d-4a5a-4976-e96d-69ef78c4fc84"
      },
      "execution_count": 5,
      "outputs": [
        {
          "output_type": "stream",
          "name": "stdout",
          "text": [
            "<class 'pandas.core.frame.DataFrame'>\n",
            "RangeIndex: 445132 entries, 0 to 445131\n",
            "Data columns (total 40 columns):\n",
            " #   Column                     Non-Null Count   Dtype  \n",
            "---  ------                     --------------   -----  \n",
            " 0   State                      445132 non-null  object \n",
            " 1   Sex                        445132 non-null  object \n",
            " 2   GeneralHealth              443934 non-null  object \n",
            " 3   PhysicalHealthDays         434205 non-null  float64\n",
            " 4   MentalHealthDays           436065 non-null  float64\n",
            " 5   LastCheckupTime            436824 non-null  object \n",
            " 6   PhysicalActivities         444039 non-null  object \n",
            " 7   SleepHours                 439679 non-null  float64\n",
            " 8   RemovedTeeth               433772 non-null  object \n",
            " 9   HadHeartAttack             442067 non-null  object \n",
            " 10  HadAngina                  440727 non-null  object \n",
            " 11  HadStroke                  443575 non-null  object \n",
            " 12  HadAsthma                  443359 non-null  object \n",
            " 13  HadSkinCancer              441989 non-null  object \n",
            " 14  HadCOPD                    442913 non-null  object \n",
            " 15  HadDepressiveDisorder      442320 non-null  object \n",
            " 16  HadKidneyDisease           443206 non-null  object \n",
            " 17  HadArthritis               442499 non-null  object \n",
            " 18  HadDiabetes                444045 non-null  object \n",
            " 19  DeafOrHardOfHearing        424485 non-null  object \n",
            " 20  BlindOrVisionDifficulty    423568 non-null  object \n",
            " 21  DifficultyConcentrating    420892 non-null  object \n",
            " 22  DifficultyWalking          421120 non-null  object \n",
            " 23  DifficultyDressingBathing  421217 non-null  object \n",
            " 24  DifficultyErrands          419476 non-null  object \n",
            " 25  SmokerStatus               409670 non-null  object \n",
            " 26  ECigaretteUsage            409472 non-null  object \n",
            " 27  ChestScan                  389086 non-null  object \n",
            " 28  RaceEthnicityCategory      431075 non-null  object \n",
            " 29  AgeCategory                436053 non-null  object \n",
            " 30  HeightInMeters             416480 non-null  float64\n",
            " 31  WeightInKilograms          403054 non-null  float64\n",
            " 32  BMI                        396326 non-null  float64\n",
            " 33  AlcoholDrinkers            398558 non-null  object \n",
            " 34  HIVTesting                 379005 non-null  object \n",
            " 35  FluVaxLast12               398011 non-null  object \n",
            " 36  PneumoVaxEver              368092 non-null  object \n",
            " 37  TetanusLast10Tdap          362616 non-null  object \n",
            " 38  HighRiskLastYear           394509 non-null  object \n",
            " 39  CovidPos                   394368 non-null  object \n",
            "dtypes: float64(6), object(34)\n",
            "memory usage: 135.8+ MB\n"
          ]
        }
      ]
    },
    {
      "cell_type": "markdown",
      "source": [
        "## 3. Визуализация данных и их основные характеристики\n"
      ],
      "metadata": {
        "id": "NmSR4FhIE9ol"
      }
    },
    {
      "cell_type": "markdown",
      "source": [
        "Информация о числовых признаках:"
      ],
      "metadata": {
        "id": "tMZgGYfpIRIN"
      }
    },
    {
      "cell_type": "code",
      "source": [
        "data_raw.describe()"
      ],
      "metadata": {
        "colab": {
          "base_uri": "https://localhost:8080/",
          "height": 300
        },
        "id": "zsitxDrqFEGh",
        "outputId": "620b9010-da4d-4acc-d71c-1f42972b14c9"
      },
      "execution_count": 6,
      "outputs": [
        {
          "output_type": "execute_result",
          "data": {
            "text/plain": [
              "       PhysicalHealthDays  MentalHealthDays     SleepHours  HeightInMeters  \\\n",
              "count       434205.000000     436065.000000  439679.000000   416480.000000   \n",
              "mean             4.347919          4.382649       7.022983        1.702691   \n",
              "std              8.688912          8.387475       1.502425        0.107177   \n",
              "min              0.000000          0.000000       1.000000        0.910000   \n",
              "25%              0.000000          0.000000       6.000000        1.630000   \n",
              "50%              0.000000          0.000000       7.000000        1.700000   \n",
              "75%              3.000000          5.000000       8.000000        1.780000   \n",
              "max             30.000000         30.000000      24.000000        2.410000   \n",
              "\n",
              "       WeightInKilograms            BMI  \n",
              "count      403054.000000  396326.000000  \n",
              "mean           83.074470      28.529842  \n",
              "std            21.448173       6.554889  \n",
              "min            22.680000      12.020000  \n",
              "25%            68.040000      24.130000  \n",
              "50%            80.740000      27.440000  \n",
              "75%            95.250000      31.750000  \n",
              "max           292.570000      99.640000  "
            ],
            "text/html": [
              "\n",
              "  <div id=\"df-8e18aa7b-b3e9-4e2c-888f-06e637e22886\" class=\"colab-df-container\">\n",
              "    <div>\n",
              "<style scoped>\n",
              "    .dataframe tbody tr th:only-of-type {\n",
              "        vertical-align: middle;\n",
              "    }\n",
              "\n",
              "    .dataframe tbody tr th {\n",
              "        vertical-align: top;\n",
              "    }\n",
              "\n",
              "    .dataframe thead th {\n",
              "        text-align: right;\n",
              "    }\n",
              "</style>\n",
              "<table border=\"1\" class=\"dataframe\">\n",
              "  <thead>\n",
              "    <tr style=\"text-align: right;\">\n",
              "      <th></th>\n",
              "      <th>PhysicalHealthDays</th>\n",
              "      <th>MentalHealthDays</th>\n",
              "      <th>SleepHours</th>\n",
              "      <th>HeightInMeters</th>\n",
              "      <th>WeightInKilograms</th>\n",
              "      <th>BMI</th>\n",
              "    </tr>\n",
              "  </thead>\n",
              "  <tbody>\n",
              "    <tr>\n",
              "      <th>count</th>\n",
              "      <td>434205.000000</td>\n",
              "      <td>436065.000000</td>\n",
              "      <td>439679.000000</td>\n",
              "      <td>416480.000000</td>\n",
              "      <td>403054.000000</td>\n",
              "      <td>396326.000000</td>\n",
              "    </tr>\n",
              "    <tr>\n",
              "      <th>mean</th>\n",
              "      <td>4.347919</td>\n",
              "      <td>4.382649</td>\n",
              "      <td>7.022983</td>\n",
              "      <td>1.702691</td>\n",
              "      <td>83.074470</td>\n",
              "      <td>28.529842</td>\n",
              "    </tr>\n",
              "    <tr>\n",
              "      <th>std</th>\n",
              "      <td>8.688912</td>\n",
              "      <td>8.387475</td>\n",
              "      <td>1.502425</td>\n",
              "      <td>0.107177</td>\n",
              "      <td>21.448173</td>\n",
              "      <td>6.554889</td>\n",
              "    </tr>\n",
              "    <tr>\n",
              "      <th>min</th>\n",
              "      <td>0.000000</td>\n",
              "      <td>0.000000</td>\n",
              "      <td>1.000000</td>\n",
              "      <td>0.910000</td>\n",
              "      <td>22.680000</td>\n",
              "      <td>12.020000</td>\n",
              "    </tr>\n",
              "    <tr>\n",
              "      <th>25%</th>\n",
              "      <td>0.000000</td>\n",
              "      <td>0.000000</td>\n",
              "      <td>6.000000</td>\n",
              "      <td>1.630000</td>\n",
              "      <td>68.040000</td>\n",
              "      <td>24.130000</td>\n",
              "    </tr>\n",
              "    <tr>\n",
              "      <th>50%</th>\n",
              "      <td>0.000000</td>\n",
              "      <td>0.000000</td>\n",
              "      <td>7.000000</td>\n",
              "      <td>1.700000</td>\n",
              "      <td>80.740000</td>\n",
              "      <td>27.440000</td>\n",
              "    </tr>\n",
              "    <tr>\n",
              "      <th>75%</th>\n",
              "      <td>3.000000</td>\n",
              "      <td>5.000000</td>\n",
              "      <td>8.000000</td>\n",
              "      <td>1.780000</td>\n",
              "      <td>95.250000</td>\n",
              "      <td>31.750000</td>\n",
              "    </tr>\n",
              "    <tr>\n",
              "      <th>max</th>\n",
              "      <td>30.000000</td>\n",
              "      <td>30.000000</td>\n",
              "      <td>24.000000</td>\n",
              "      <td>2.410000</td>\n",
              "      <td>292.570000</td>\n",
              "      <td>99.640000</td>\n",
              "    </tr>\n",
              "  </tbody>\n",
              "</table>\n",
              "</div>\n",
              "    <div class=\"colab-df-buttons\">\n",
              "\n",
              "  <div class=\"colab-df-container\">\n",
              "    <button class=\"colab-df-convert\" onclick=\"convertToInteractive('df-8e18aa7b-b3e9-4e2c-888f-06e637e22886')\"\n",
              "            title=\"Convert this dataframe to an interactive table.\"\n",
              "            style=\"display:none;\">\n",
              "\n",
              "  <svg xmlns=\"http://www.w3.org/2000/svg\" height=\"24px\" viewBox=\"0 -960 960 960\">\n",
              "    <path d=\"M120-120v-720h720v720H120Zm60-500h600v-160H180v160Zm220 220h160v-160H400v160Zm0 220h160v-160H400v160ZM180-400h160v-160H180v160Zm440 0h160v-160H620v160ZM180-180h160v-160H180v160Zm440 0h160v-160H620v160Z\"/>\n",
              "  </svg>\n",
              "    </button>\n",
              "\n",
              "  <style>\n",
              "    .colab-df-container {\n",
              "      display:flex;\n",
              "      gap: 12px;\n",
              "    }\n",
              "\n",
              "    .colab-df-convert {\n",
              "      background-color: #E8F0FE;\n",
              "      border: none;\n",
              "      border-radius: 50%;\n",
              "      cursor: pointer;\n",
              "      display: none;\n",
              "      fill: #1967D2;\n",
              "      height: 32px;\n",
              "      padding: 0 0 0 0;\n",
              "      width: 32px;\n",
              "    }\n",
              "\n",
              "    .colab-df-convert:hover {\n",
              "      background-color: #E2EBFA;\n",
              "      box-shadow: 0px 1px 2px rgba(60, 64, 67, 0.3), 0px 1px 3px 1px rgba(60, 64, 67, 0.15);\n",
              "      fill: #174EA6;\n",
              "    }\n",
              "\n",
              "    .colab-df-buttons div {\n",
              "      margin-bottom: 4px;\n",
              "    }\n",
              "\n",
              "    [theme=dark] .colab-df-convert {\n",
              "      background-color: #3B4455;\n",
              "      fill: #D2E3FC;\n",
              "    }\n",
              "\n",
              "    [theme=dark] .colab-df-convert:hover {\n",
              "      background-color: #434B5C;\n",
              "      box-shadow: 0px 1px 3px 1px rgba(0, 0, 0, 0.15);\n",
              "      filter: drop-shadow(0px 1px 2px rgba(0, 0, 0, 0.3));\n",
              "      fill: #FFFFFF;\n",
              "    }\n",
              "  </style>\n",
              "\n",
              "    <script>\n",
              "      const buttonEl =\n",
              "        document.querySelector('#df-8e18aa7b-b3e9-4e2c-888f-06e637e22886 button.colab-df-convert');\n",
              "      buttonEl.style.display =\n",
              "        google.colab.kernel.accessAllowed ? 'block' : 'none';\n",
              "\n",
              "      async function convertToInteractive(key) {\n",
              "        const element = document.querySelector('#df-8e18aa7b-b3e9-4e2c-888f-06e637e22886');\n",
              "        const dataTable =\n",
              "          await google.colab.kernel.invokeFunction('convertToInteractive',\n",
              "                                                    [key], {});\n",
              "        if (!dataTable) return;\n",
              "\n",
              "        const docLinkHtml = 'Like what you see? Visit the ' +\n",
              "          '<a target=\"_blank\" href=https://colab.research.google.com/notebooks/data_table.ipynb>data table notebook</a>'\n",
              "          + ' to learn more about interactive tables.';\n",
              "        element.innerHTML = '';\n",
              "        dataTable['output_type'] = 'display_data';\n",
              "        await google.colab.output.renderOutput(dataTable, element);\n",
              "        const docLink = document.createElement('div');\n",
              "        docLink.innerHTML = docLinkHtml;\n",
              "        element.appendChild(docLink);\n",
              "      }\n",
              "    </script>\n",
              "  </div>\n",
              "\n",
              "\n",
              "<div id=\"df-02adfbde-e4ca-41cc-b827-b3e342cfa58d\">\n",
              "  <button class=\"colab-df-quickchart\" onclick=\"quickchart('df-02adfbde-e4ca-41cc-b827-b3e342cfa58d')\"\n",
              "            title=\"Suggest charts\"\n",
              "            style=\"display:none;\">\n",
              "\n",
              "<svg xmlns=\"http://www.w3.org/2000/svg\" height=\"24px\"viewBox=\"0 0 24 24\"\n",
              "     width=\"24px\">\n",
              "    <g>\n",
              "        <path d=\"M19 3H5c-1.1 0-2 .9-2 2v14c0 1.1.9 2 2 2h14c1.1 0 2-.9 2-2V5c0-1.1-.9-2-2-2zM9 17H7v-7h2v7zm4 0h-2V7h2v10zm4 0h-2v-4h2v4z\"/>\n",
              "    </g>\n",
              "</svg>\n",
              "  </button>\n",
              "\n",
              "<style>\n",
              "  .colab-df-quickchart {\n",
              "      --bg-color: #E8F0FE;\n",
              "      --fill-color: #1967D2;\n",
              "      --hover-bg-color: #E2EBFA;\n",
              "      --hover-fill-color: #174EA6;\n",
              "      --disabled-fill-color: #AAA;\n",
              "      --disabled-bg-color: #DDD;\n",
              "  }\n",
              "\n",
              "  [theme=dark] .colab-df-quickchart {\n",
              "      --bg-color: #3B4455;\n",
              "      --fill-color: #D2E3FC;\n",
              "      --hover-bg-color: #434B5C;\n",
              "      --hover-fill-color: #FFFFFF;\n",
              "      --disabled-bg-color: #3B4455;\n",
              "      --disabled-fill-color: #666;\n",
              "  }\n",
              "\n",
              "  .colab-df-quickchart {\n",
              "    background-color: var(--bg-color);\n",
              "    border: none;\n",
              "    border-radius: 50%;\n",
              "    cursor: pointer;\n",
              "    display: none;\n",
              "    fill: var(--fill-color);\n",
              "    height: 32px;\n",
              "    padding: 0;\n",
              "    width: 32px;\n",
              "  }\n",
              "\n",
              "  .colab-df-quickchart:hover {\n",
              "    background-color: var(--hover-bg-color);\n",
              "    box-shadow: 0 1px 2px rgba(60, 64, 67, 0.3), 0 1px 3px 1px rgba(60, 64, 67, 0.15);\n",
              "    fill: var(--button-hover-fill-color);\n",
              "  }\n",
              "\n",
              "  .colab-df-quickchart-complete:disabled,\n",
              "  .colab-df-quickchart-complete:disabled:hover {\n",
              "    background-color: var(--disabled-bg-color);\n",
              "    fill: var(--disabled-fill-color);\n",
              "    box-shadow: none;\n",
              "  }\n",
              "\n",
              "  .colab-df-spinner {\n",
              "    border: 2px solid var(--fill-color);\n",
              "    border-color: transparent;\n",
              "    border-bottom-color: var(--fill-color);\n",
              "    animation:\n",
              "      spin 1s steps(1) infinite;\n",
              "  }\n",
              "\n",
              "  @keyframes spin {\n",
              "    0% {\n",
              "      border-color: transparent;\n",
              "      border-bottom-color: var(--fill-color);\n",
              "      border-left-color: var(--fill-color);\n",
              "    }\n",
              "    20% {\n",
              "      border-color: transparent;\n",
              "      border-left-color: var(--fill-color);\n",
              "      border-top-color: var(--fill-color);\n",
              "    }\n",
              "    30% {\n",
              "      border-color: transparent;\n",
              "      border-left-color: var(--fill-color);\n",
              "      border-top-color: var(--fill-color);\n",
              "      border-right-color: var(--fill-color);\n",
              "    }\n",
              "    40% {\n",
              "      border-color: transparent;\n",
              "      border-right-color: var(--fill-color);\n",
              "      border-top-color: var(--fill-color);\n",
              "    }\n",
              "    60% {\n",
              "      border-color: transparent;\n",
              "      border-right-color: var(--fill-color);\n",
              "    }\n",
              "    80% {\n",
              "      border-color: transparent;\n",
              "      border-right-color: var(--fill-color);\n",
              "      border-bottom-color: var(--fill-color);\n",
              "    }\n",
              "    90% {\n",
              "      border-color: transparent;\n",
              "      border-bottom-color: var(--fill-color);\n",
              "    }\n",
              "  }\n",
              "</style>\n",
              "\n",
              "  <script>\n",
              "    async function quickchart(key) {\n",
              "      const quickchartButtonEl =\n",
              "        document.querySelector('#' + key + ' button');\n",
              "      quickchartButtonEl.disabled = true;  // To prevent multiple clicks.\n",
              "      quickchartButtonEl.classList.add('colab-df-spinner');\n",
              "      try {\n",
              "        const charts = await google.colab.kernel.invokeFunction(\n",
              "            'suggestCharts', [key], {});\n",
              "      } catch (error) {\n",
              "        console.error('Error during call to suggestCharts:', error);\n",
              "      }\n",
              "      quickchartButtonEl.classList.remove('colab-df-spinner');\n",
              "      quickchartButtonEl.classList.add('colab-df-quickchart-complete');\n",
              "    }\n",
              "    (() => {\n",
              "      let quickchartButtonEl =\n",
              "        document.querySelector('#df-02adfbde-e4ca-41cc-b827-b3e342cfa58d button');\n",
              "      quickchartButtonEl.style.display =\n",
              "        google.colab.kernel.accessAllowed ? 'block' : 'none';\n",
              "    })();\n",
              "  </script>\n",
              "</div>\n",
              "    </div>\n",
              "  </div>\n"
            ]
          },
          "metadata": {},
          "execution_count": 6
        }
      ]
    },
    {
      "cell_type": "markdown",
      "source": [],
      "metadata": {
        "id": "hLiRzpANIjLS"
      }
    },
    {
      "cell_type": "markdown",
      "source": [
        "Конвертируем типы для наших категориальных признаков из типа object в categorical"
      ],
      "metadata": {
        "id": "yayG478II9vf"
      }
    },
    {
      "cell_type": "code",
      "source": [
        "data_raw['State'] = data_raw['State'].astype('category')\n",
        "data_raw['Sex'] = data_raw['Sex'].astype('category')\n",
        "data_raw['GeneralHealth'] = data_raw['GeneralHealth'].astype('category')\n",
        "data_raw['LastCheckupTime'] = data_raw['LastCheckupTime'].astype('category')\n",
        "data_raw['PhysicalActivities'] = data_raw['PhysicalActivities'].astype('category')\n",
        "data_raw['RemovedTeeth'] = data_raw['RemovedTeeth'].astype('category')\n",
        "data_raw['HadHeartAttack'] = data_raw['HadHeartAttack'].astype('category')\n",
        "data_raw['HadAngina'] = data_raw['HadAngina'].astype('category')\n",
        "data_raw['HadStroke'] = data_raw['HadStroke'].astype('category')\n",
        "data_raw['HadAsthma'] = data_raw['HadAsthma'].astype('category')\n",
        "data_raw['HadSkinCancer'] = data_raw['HadSkinCancer'].astype('category')\n",
        "data_raw['HadCOPD'] = data_raw['HadCOPD'].astype('category')\n",
        "data_raw['HadDepressiveDisorder'] = data_raw['HadDepressiveDisorder'].astype('category')\n",
        "data_raw['HadKidneyDisease'] = data_raw['HadKidneyDisease'].astype('category')\n",
        "data_raw['HadArthritis'] = data_raw['HadArthritis'].astype('category')\n",
        "data_raw['HadDiabetes'] = data_raw['HadDiabetes'].astype('category')\n",
        "data_raw['DeafOrHardOfHearing'] = data_raw['DeafOrHardOfHearing'].astype('category')\n",
        "data_raw['BlindOrVisionDifficulty'] = data_raw['BlindOrVisionDifficulty'].astype('category')\n",
        "data_raw['DifficultyConcentrating'] = data_raw['DifficultyConcentrating'].astype('category')\n",
        "data_raw['DifficultyWalking'] = data_raw['DifficultyWalking'].astype('category')\n",
        "data_raw['DifficultyDressingBathing'] = data_raw['DifficultyDressingBathing'].astype('category')\n",
        "data_raw['DifficultyErrands'] = data_raw['DifficultyErrands'].astype('category')\n",
        "data_raw['SmokerStatus'] = data_raw['SmokerStatus'].astype('category')\n",
        "data_raw['ECigaretteUsage'] = data_raw['ECigaretteUsage'].astype('category')\n",
        "data_raw['ChestScan'] = data_raw['ChestScan'].astype('category')\n",
        "data_raw['RaceEthnicityCategory'] = data_raw['RaceEthnicityCategory'].astype('category')\n",
        "data_raw['AgeCategory'] = data_raw['AgeCategory'].astype('category')\n",
        "data_raw['AlcoholDrinkers'] = data_raw['AlcoholDrinkers'].astype('category')\n",
        "data_raw['HIVTesting'] = data_raw['HIVTesting'].astype('category')\n",
        "data_raw['FluVaxLast12'] = data_raw['FluVaxLast12'].astype('category')\n",
        "data_raw['PneumoVaxEver'] = data_raw['PneumoVaxEver'].astype('category')\n",
        "data_raw['TetanusLast10Tdap'] = data_raw['TetanusLast10Tdap'].astype('category')\n",
        "data_raw['HighRiskLastYear'] = data_raw['HighRiskLastYear'].astype('category')\n",
        "data_raw['CovidPos'] = data_raw['CovidPos'].astype('category')"
      ],
      "metadata": {
        "id": "dNSv_WsKI6Zq"
      },
      "execution_count": 7,
      "outputs": []
    },
    {
      "cell_type": "code",
      "source": [
        "data_raw.info()"
      ],
      "metadata": {
        "colab": {
          "base_uri": "https://localhost:8080/"
        },
        "id": "AS148LZ-LF1w",
        "outputId": "180b1e39-f8d7-4898-d888-bbd1750b4aab"
      },
      "execution_count": 8,
      "outputs": [
        {
          "output_type": "stream",
          "name": "stdout",
          "text": [
            "<class 'pandas.core.frame.DataFrame'>\n",
            "RangeIndex: 445132 entries, 0 to 445131\n",
            "Data columns (total 40 columns):\n",
            " #   Column                     Non-Null Count   Dtype   \n",
            "---  ------                     --------------   -----   \n",
            " 0   State                      445132 non-null  category\n",
            " 1   Sex                        445132 non-null  category\n",
            " 2   GeneralHealth              443934 non-null  category\n",
            " 3   PhysicalHealthDays         434205 non-null  float64 \n",
            " 4   MentalHealthDays           436065 non-null  float64 \n",
            " 5   LastCheckupTime            436824 non-null  category\n",
            " 6   PhysicalActivities         444039 non-null  category\n",
            " 7   SleepHours                 439679 non-null  float64 \n",
            " 8   RemovedTeeth               433772 non-null  category\n",
            " 9   HadHeartAttack             442067 non-null  category\n",
            " 10  HadAngina                  440727 non-null  category\n",
            " 11  HadStroke                  443575 non-null  category\n",
            " 12  HadAsthma                  443359 non-null  category\n",
            " 13  HadSkinCancer              441989 non-null  category\n",
            " 14  HadCOPD                    442913 non-null  category\n",
            " 15  HadDepressiveDisorder      442320 non-null  category\n",
            " 16  HadKidneyDisease           443206 non-null  category\n",
            " 17  HadArthritis               442499 non-null  category\n",
            " 18  HadDiabetes                444045 non-null  category\n",
            " 19  DeafOrHardOfHearing        424485 non-null  category\n",
            " 20  BlindOrVisionDifficulty    423568 non-null  category\n",
            " 21  DifficultyConcentrating    420892 non-null  category\n",
            " 22  DifficultyWalking          421120 non-null  category\n",
            " 23  DifficultyDressingBathing  421217 non-null  category\n",
            " 24  DifficultyErrands          419476 non-null  category\n",
            " 25  SmokerStatus               409670 non-null  category\n",
            " 26  ECigaretteUsage            409472 non-null  category\n",
            " 27  ChestScan                  389086 non-null  category\n",
            " 28  RaceEthnicityCategory      431075 non-null  category\n",
            " 29  AgeCategory                436053 non-null  category\n",
            " 30  HeightInMeters             416480 non-null  float64 \n",
            " 31  WeightInKilograms          403054 non-null  float64 \n",
            " 32  BMI                        396326 non-null  float64 \n",
            " 33  AlcoholDrinkers            398558 non-null  category\n",
            " 34  HIVTesting                 379005 non-null  category\n",
            " 35  FluVaxLast12               398011 non-null  category\n",
            " 36  PneumoVaxEver              368092 non-null  category\n",
            " 37  TetanusLast10Tdap          362616 non-null  category\n",
            " 38  HighRiskLastYear           394509 non-null  category\n",
            " 39  CovidPos                   394368 non-null  category\n",
            "dtypes: category(34), float64(6)\n",
            "memory usage: 34.8 MB\n"
          ]
        }
      ]
    },
    {
      "cell_type": "markdown",
      "source": [
        "Информация о категориальных признаках:"
      ],
      "metadata": {
        "id": "fs7MWOYQLZLK"
      }
    },
    {
      "cell_type": "code",
      "source": [
        "data_raw.describe(include=['category'])"
      ],
      "metadata": {
        "colab": {
          "base_uri": "https://localhost:8080/",
          "height": 259
        },
        "id": "flvAEaEFLbQB",
        "outputId": "fb594a89-44a6-4f1b-ca6f-a3df302fa382"
      },
      "execution_count": 9,
      "outputs": [
        {
          "output_type": "execute_result",
          "data": {
            "text/plain": [
              "             State     Sex GeneralHealth  \\\n",
              "count       445132  445132        443934   \n",
              "unique          54       2             5   \n",
              "top     Washington  Female     Very good   \n",
              "freq         26152  235893        148444   \n",
              "\n",
              "                                          LastCheckupTime PhysicalActivities  \\\n",
              "count                                              436824             444039   \n",
              "unique                                                  4                  2   \n",
              "top     Within past year (anytime less than 12 months ...                Yes   \n",
              "freq                                               350944             337559   \n",
              "\n",
              "        RemovedTeeth HadHeartAttack HadAngina HadStroke HadAsthma  ...  \\\n",
              "count         433772         442067    440727    443575    443359  ...   \n",
              "unique             4              2         2         2         2  ...   \n",
              "top     None of them             No        No        No        No  ...   \n",
              "freq          233455         416959    414176    424336    376665  ...   \n",
              "\n",
              "       ChestScan     RaceEthnicityCategory   AgeCategory AlcoholDrinkers  \\\n",
              "count     389086                    431075        436053          398558   \n",
              "unique         2                         5            13               2   \n",
              "top           No  White only, Non-Hispanic  Age 65 to 69             Yes   \n",
              "freq      223221                    320421         47099          210891   \n",
              "\n",
              "       HIVTesting FluVaxLast12 PneumoVaxEver  \\\n",
              "count      379005       398011        368092   \n",
              "unique          2            2             2   \n",
              "top            No          Yes            No   \n",
              "freq       249919       209256        215604   \n",
              "\n",
              "                                        TetanusLast10Tdap HighRiskLastYear  \\\n",
              "count                                              362616           394509   \n",
              "unique                                                  4                2   \n",
              "top     No, did not receive any tetanus shot in the pa...               No   \n",
              "freq                                               121493           377324   \n",
              "\n",
              "       CovidPos  \n",
              "count    394368  \n",
              "unique        3  \n",
              "top          No  \n",
              "freq     270055  \n",
              "\n",
              "[4 rows x 34 columns]"
            ],
            "text/html": [
              "\n",
              "  <div id=\"df-c37f8ac3-839d-4f28-bd8d-203e575aebd5\" class=\"colab-df-container\">\n",
              "    <div>\n",
              "<style scoped>\n",
              "    .dataframe tbody tr th:only-of-type {\n",
              "        vertical-align: middle;\n",
              "    }\n",
              "\n",
              "    .dataframe tbody tr th {\n",
              "        vertical-align: top;\n",
              "    }\n",
              "\n",
              "    .dataframe thead th {\n",
              "        text-align: right;\n",
              "    }\n",
              "</style>\n",
              "<table border=\"1\" class=\"dataframe\">\n",
              "  <thead>\n",
              "    <tr style=\"text-align: right;\">\n",
              "      <th></th>\n",
              "      <th>State</th>\n",
              "      <th>Sex</th>\n",
              "      <th>GeneralHealth</th>\n",
              "      <th>LastCheckupTime</th>\n",
              "      <th>PhysicalActivities</th>\n",
              "      <th>RemovedTeeth</th>\n",
              "      <th>HadHeartAttack</th>\n",
              "      <th>HadAngina</th>\n",
              "      <th>HadStroke</th>\n",
              "      <th>HadAsthma</th>\n",
              "      <th>...</th>\n",
              "      <th>ChestScan</th>\n",
              "      <th>RaceEthnicityCategory</th>\n",
              "      <th>AgeCategory</th>\n",
              "      <th>AlcoholDrinkers</th>\n",
              "      <th>HIVTesting</th>\n",
              "      <th>FluVaxLast12</th>\n",
              "      <th>PneumoVaxEver</th>\n",
              "      <th>TetanusLast10Tdap</th>\n",
              "      <th>HighRiskLastYear</th>\n",
              "      <th>CovidPos</th>\n",
              "    </tr>\n",
              "  </thead>\n",
              "  <tbody>\n",
              "    <tr>\n",
              "      <th>count</th>\n",
              "      <td>445132</td>\n",
              "      <td>445132</td>\n",
              "      <td>443934</td>\n",
              "      <td>436824</td>\n",
              "      <td>444039</td>\n",
              "      <td>433772</td>\n",
              "      <td>442067</td>\n",
              "      <td>440727</td>\n",
              "      <td>443575</td>\n",
              "      <td>443359</td>\n",
              "      <td>...</td>\n",
              "      <td>389086</td>\n",
              "      <td>431075</td>\n",
              "      <td>436053</td>\n",
              "      <td>398558</td>\n",
              "      <td>379005</td>\n",
              "      <td>398011</td>\n",
              "      <td>368092</td>\n",
              "      <td>362616</td>\n",
              "      <td>394509</td>\n",
              "      <td>394368</td>\n",
              "    </tr>\n",
              "    <tr>\n",
              "      <th>unique</th>\n",
              "      <td>54</td>\n",
              "      <td>2</td>\n",
              "      <td>5</td>\n",
              "      <td>4</td>\n",
              "      <td>2</td>\n",
              "      <td>4</td>\n",
              "      <td>2</td>\n",
              "      <td>2</td>\n",
              "      <td>2</td>\n",
              "      <td>2</td>\n",
              "      <td>...</td>\n",
              "      <td>2</td>\n",
              "      <td>5</td>\n",
              "      <td>13</td>\n",
              "      <td>2</td>\n",
              "      <td>2</td>\n",
              "      <td>2</td>\n",
              "      <td>2</td>\n",
              "      <td>4</td>\n",
              "      <td>2</td>\n",
              "      <td>3</td>\n",
              "    </tr>\n",
              "    <tr>\n",
              "      <th>top</th>\n",
              "      <td>Washington</td>\n",
              "      <td>Female</td>\n",
              "      <td>Very good</td>\n",
              "      <td>Within past year (anytime less than 12 months ...</td>\n",
              "      <td>Yes</td>\n",
              "      <td>None of them</td>\n",
              "      <td>No</td>\n",
              "      <td>No</td>\n",
              "      <td>No</td>\n",
              "      <td>No</td>\n",
              "      <td>...</td>\n",
              "      <td>No</td>\n",
              "      <td>White only, Non-Hispanic</td>\n",
              "      <td>Age 65 to 69</td>\n",
              "      <td>Yes</td>\n",
              "      <td>No</td>\n",
              "      <td>Yes</td>\n",
              "      <td>No</td>\n",
              "      <td>No, did not receive any tetanus shot in the pa...</td>\n",
              "      <td>No</td>\n",
              "      <td>No</td>\n",
              "    </tr>\n",
              "    <tr>\n",
              "      <th>freq</th>\n",
              "      <td>26152</td>\n",
              "      <td>235893</td>\n",
              "      <td>148444</td>\n",
              "      <td>350944</td>\n",
              "      <td>337559</td>\n",
              "      <td>233455</td>\n",
              "      <td>416959</td>\n",
              "      <td>414176</td>\n",
              "      <td>424336</td>\n",
              "      <td>376665</td>\n",
              "      <td>...</td>\n",
              "      <td>223221</td>\n",
              "      <td>320421</td>\n",
              "      <td>47099</td>\n",
              "      <td>210891</td>\n",
              "      <td>249919</td>\n",
              "      <td>209256</td>\n",
              "      <td>215604</td>\n",
              "      <td>121493</td>\n",
              "      <td>377324</td>\n",
              "      <td>270055</td>\n",
              "    </tr>\n",
              "  </tbody>\n",
              "</table>\n",
              "<p>4 rows × 34 columns</p>\n",
              "</div>\n",
              "    <div class=\"colab-df-buttons\">\n",
              "\n",
              "  <div class=\"colab-df-container\">\n",
              "    <button class=\"colab-df-convert\" onclick=\"convertToInteractive('df-c37f8ac3-839d-4f28-bd8d-203e575aebd5')\"\n",
              "            title=\"Convert this dataframe to an interactive table.\"\n",
              "            style=\"display:none;\">\n",
              "\n",
              "  <svg xmlns=\"http://www.w3.org/2000/svg\" height=\"24px\" viewBox=\"0 -960 960 960\">\n",
              "    <path d=\"M120-120v-720h720v720H120Zm60-500h600v-160H180v160Zm220 220h160v-160H400v160Zm0 220h160v-160H400v160ZM180-400h160v-160H180v160Zm440 0h160v-160H620v160ZM180-180h160v-160H180v160Zm440 0h160v-160H620v160Z\"/>\n",
              "  </svg>\n",
              "    </button>\n",
              "\n",
              "  <style>\n",
              "    .colab-df-container {\n",
              "      display:flex;\n",
              "      gap: 12px;\n",
              "    }\n",
              "\n",
              "    .colab-df-convert {\n",
              "      background-color: #E8F0FE;\n",
              "      border: none;\n",
              "      border-radius: 50%;\n",
              "      cursor: pointer;\n",
              "      display: none;\n",
              "      fill: #1967D2;\n",
              "      height: 32px;\n",
              "      padding: 0 0 0 0;\n",
              "      width: 32px;\n",
              "    }\n",
              "\n",
              "    .colab-df-convert:hover {\n",
              "      background-color: #E2EBFA;\n",
              "      box-shadow: 0px 1px 2px rgba(60, 64, 67, 0.3), 0px 1px 3px 1px rgba(60, 64, 67, 0.15);\n",
              "      fill: #174EA6;\n",
              "    }\n",
              "\n",
              "    .colab-df-buttons div {\n",
              "      margin-bottom: 4px;\n",
              "    }\n",
              "\n",
              "    [theme=dark] .colab-df-convert {\n",
              "      background-color: #3B4455;\n",
              "      fill: #D2E3FC;\n",
              "    }\n",
              "\n",
              "    [theme=dark] .colab-df-convert:hover {\n",
              "      background-color: #434B5C;\n",
              "      box-shadow: 0px 1px 3px 1px rgba(0, 0, 0, 0.15);\n",
              "      filter: drop-shadow(0px 1px 2px rgba(0, 0, 0, 0.3));\n",
              "      fill: #FFFFFF;\n",
              "    }\n",
              "  </style>\n",
              "\n",
              "    <script>\n",
              "      const buttonEl =\n",
              "        document.querySelector('#df-c37f8ac3-839d-4f28-bd8d-203e575aebd5 button.colab-df-convert');\n",
              "      buttonEl.style.display =\n",
              "        google.colab.kernel.accessAllowed ? 'block' : 'none';\n",
              "\n",
              "      async function convertToInteractive(key) {\n",
              "        const element = document.querySelector('#df-c37f8ac3-839d-4f28-bd8d-203e575aebd5');\n",
              "        const dataTable =\n",
              "          await google.colab.kernel.invokeFunction('convertToInteractive',\n",
              "                                                    [key], {});\n",
              "        if (!dataTable) return;\n",
              "\n",
              "        const docLinkHtml = 'Like what you see? Visit the ' +\n",
              "          '<a target=\"_blank\" href=https://colab.research.google.com/notebooks/data_table.ipynb>data table notebook</a>'\n",
              "          + ' to learn more about interactive tables.';\n",
              "        element.innerHTML = '';\n",
              "        dataTable['output_type'] = 'display_data';\n",
              "        await google.colab.output.renderOutput(dataTable, element);\n",
              "        const docLink = document.createElement('div');\n",
              "        docLink.innerHTML = docLinkHtml;\n",
              "        element.appendChild(docLink);\n",
              "      }\n",
              "    </script>\n",
              "  </div>\n",
              "\n",
              "\n",
              "<div id=\"df-dbd9a0b2-9362-4307-8179-73d96c9a205a\">\n",
              "  <button class=\"colab-df-quickchart\" onclick=\"quickchart('df-dbd9a0b2-9362-4307-8179-73d96c9a205a')\"\n",
              "            title=\"Suggest charts\"\n",
              "            style=\"display:none;\">\n",
              "\n",
              "<svg xmlns=\"http://www.w3.org/2000/svg\" height=\"24px\"viewBox=\"0 0 24 24\"\n",
              "     width=\"24px\">\n",
              "    <g>\n",
              "        <path d=\"M19 3H5c-1.1 0-2 .9-2 2v14c0 1.1.9 2 2 2h14c1.1 0 2-.9 2-2V5c0-1.1-.9-2-2-2zM9 17H7v-7h2v7zm4 0h-2V7h2v10zm4 0h-2v-4h2v4z\"/>\n",
              "    </g>\n",
              "</svg>\n",
              "  </button>\n",
              "\n",
              "<style>\n",
              "  .colab-df-quickchart {\n",
              "      --bg-color: #E8F0FE;\n",
              "      --fill-color: #1967D2;\n",
              "      --hover-bg-color: #E2EBFA;\n",
              "      --hover-fill-color: #174EA6;\n",
              "      --disabled-fill-color: #AAA;\n",
              "      --disabled-bg-color: #DDD;\n",
              "  }\n",
              "\n",
              "  [theme=dark] .colab-df-quickchart {\n",
              "      --bg-color: #3B4455;\n",
              "      --fill-color: #D2E3FC;\n",
              "      --hover-bg-color: #434B5C;\n",
              "      --hover-fill-color: #FFFFFF;\n",
              "      --disabled-bg-color: #3B4455;\n",
              "      --disabled-fill-color: #666;\n",
              "  }\n",
              "\n",
              "  .colab-df-quickchart {\n",
              "    background-color: var(--bg-color);\n",
              "    border: none;\n",
              "    border-radius: 50%;\n",
              "    cursor: pointer;\n",
              "    display: none;\n",
              "    fill: var(--fill-color);\n",
              "    height: 32px;\n",
              "    padding: 0;\n",
              "    width: 32px;\n",
              "  }\n",
              "\n",
              "  .colab-df-quickchart:hover {\n",
              "    background-color: var(--hover-bg-color);\n",
              "    box-shadow: 0 1px 2px rgba(60, 64, 67, 0.3), 0 1px 3px 1px rgba(60, 64, 67, 0.15);\n",
              "    fill: var(--button-hover-fill-color);\n",
              "  }\n",
              "\n",
              "  .colab-df-quickchart-complete:disabled,\n",
              "  .colab-df-quickchart-complete:disabled:hover {\n",
              "    background-color: var(--disabled-bg-color);\n",
              "    fill: var(--disabled-fill-color);\n",
              "    box-shadow: none;\n",
              "  }\n",
              "\n",
              "  .colab-df-spinner {\n",
              "    border: 2px solid var(--fill-color);\n",
              "    border-color: transparent;\n",
              "    border-bottom-color: var(--fill-color);\n",
              "    animation:\n",
              "      spin 1s steps(1) infinite;\n",
              "  }\n",
              "\n",
              "  @keyframes spin {\n",
              "    0% {\n",
              "      border-color: transparent;\n",
              "      border-bottom-color: var(--fill-color);\n",
              "      border-left-color: var(--fill-color);\n",
              "    }\n",
              "    20% {\n",
              "      border-color: transparent;\n",
              "      border-left-color: var(--fill-color);\n",
              "      border-top-color: var(--fill-color);\n",
              "    }\n",
              "    30% {\n",
              "      border-color: transparent;\n",
              "      border-left-color: var(--fill-color);\n",
              "      border-top-color: var(--fill-color);\n",
              "      border-right-color: var(--fill-color);\n",
              "    }\n",
              "    40% {\n",
              "      border-color: transparent;\n",
              "      border-right-color: var(--fill-color);\n",
              "      border-top-color: var(--fill-color);\n",
              "    }\n",
              "    60% {\n",
              "      border-color: transparent;\n",
              "      border-right-color: var(--fill-color);\n",
              "    }\n",
              "    80% {\n",
              "      border-color: transparent;\n",
              "      border-right-color: var(--fill-color);\n",
              "      border-bottom-color: var(--fill-color);\n",
              "    }\n",
              "    90% {\n",
              "      border-color: transparent;\n",
              "      border-bottom-color: var(--fill-color);\n",
              "    }\n",
              "  }\n",
              "</style>\n",
              "\n",
              "  <script>\n",
              "    async function quickchart(key) {\n",
              "      const quickchartButtonEl =\n",
              "        document.querySelector('#' + key + ' button');\n",
              "      quickchartButtonEl.disabled = true;  // To prevent multiple clicks.\n",
              "      quickchartButtonEl.classList.add('colab-df-spinner');\n",
              "      try {\n",
              "        const charts = await google.colab.kernel.invokeFunction(\n",
              "            'suggestCharts', [key], {});\n",
              "      } catch (error) {\n",
              "        console.error('Error during call to suggestCharts:', error);\n",
              "      }\n",
              "      quickchartButtonEl.classList.remove('colab-df-spinner');\n",
              "      quickchartButtonEl.classList.add('colab-df-quickchart-complete');\n",
              "    }\n",
              "    (() => {\n",
              "      let quickchartButtonEl =\n",
              "        document.querySelector('#df-dbd9a0b2-9362-4307-8179-73d96c9a205a button');\n",
              "      quickchartButtonEl.style.display =\n",
              "        google.colab.kernel.accessAllowed ? 'block' : 'none';\n",
              "    })();\n",
              "  </script>\n",
              "</div>\n",
              "    </div>\n",
              "  </div>\n"
            ]
          },
          "metadata": {},
          "execution_count": 9
        }
      ]
    },
    {
      "cell_type": "markdown",
      "source": [
        "Построим матрицу корреляции для наших числовых признаков и попытаемся определить и объяснить какие-то интересные для нас корреляции признаков"
      ],
      "metadata": {
        "id": "19EVJ9G5cs4p"
      }
    },
    {
      "cell_type": "code",
      "source": [
        "corr_matrix = data_raw.corr(numeric_only=True)\n",
        "sns.heatmap(corr_matrix, square=True, annot=True, fmt='.2f', vmin=-1, vmax=1, cmap='coolwarm')\n",
        "pass"
      ],
      "metadata": {
        "colab": {
          "base_uri": "https://localhost:8080/",
          "height": 558
        },
        "id": "sTx1SVu5dSi7",
        "outputId": "77a664e1-572d-41cb-fc72-6774f9b47772"
      },
      "execution_count": 10,
      "outputs": [
        {
          "output_type": "display_data",
          "data": {
            "text/plain": [
              "<Figure size 640x480 with 2 Axes>"
            ],
            "image/png": "[encoded data removed]"
          },
          "metadata": {}
        }
      ]
    },
    {
      "cell_type": "markdown",
      "source": [
        "Как видим, прослеживаются следующие корреляции:\n",
        "* Самая большая корреляция между индексом массы тела и массой человека. Чем больше масса тела, тем больше индекс массы тела. Не представляет какого-либо интереса, так как прямая корреляция между этими признаками очевидна.\n",
        "* Второй по величине корреляцией является рост и вес человека. Чем больше рост, тем больше и вес. Тоже достаточно очевидная корреляция, так как обычно более высокие люди так же и весят больше (как минимум на это должна влиять длина конечностей и вес костей).\n",
        "* Существует корреляция между количеством ментально и физически плохих дней. Логика в этом есть, так как, если человек чувствует себя плохо физически, то это может влиять и на психическое состояние, так и наоборот.\n",
        "* Прослеживаются и другие корреляции, например, между индексом массы тела и количеством дней, когда человек чувствовал себя физически плохо, но это достаточно маленькие значения. О них стоит помнить, но не заострять на них внимание.\n"
      ],
      "metadata": {
        "id": "9qDX5TxWeeBh"
      }
    },
    {
      "cell_type": "markdown",
      "source": [
        "Теперь посмотрим на корреляция различных факторов и наличием сердечно сосудистых заболеваний"
      ],
      "metadata": {
        "id": "QcNpiaAajAAz"
      }
    },
    {
      "cell_type": "markdown",
      "source": [
        "### Пол человека"
      ],
      "metadata": {
        "id": "pdH6dUzyjWp_"
      }
    },
    {
      "cell_type": "code",
      "source": [
        "sns.countplot(data=data_raw,x='AlcoholDrinking', hue='HeartDisease')\n",
        "pass"
      ],
      "metadata": {
        "colab": {
          "base_uri": "https://localhost:8080/",
          "height": 449
        },
        "id": "-LrvBkudjkUp",
        "outputId": "5543714c-0fe1-4d8d-a37c-7f9da98bfde7"
      },
      "execution_count": 11,
      "outputs": [
        {
          "output_type": "display_data",
          "data": {
            "text/plain": [
              "<Figure size 640x480 with 1 Axes>"
            ],
            "image/png": "[encoded data removed]"
          },
          "metadata": {}
        }
      ]
    },
    {
      "cell_type": "markdown",
      "source": [
        "По диаграмме мы можем сделать вывод, что мужчины сталкиваются с сердечно-сосудистыми заболеваниями чаще, чем женщины. Причем, несмотря на то, что женщин в наших данных больше, чем мужчин, оранжевая колонка у мужчин больше, чем у женщин. Следовательно, можем точно сделать вывод о том, что пол человека - признак, имеющий влияние на возникновение проблем с сердцем."
      ],
      "metadata": {
        "id": "rxR_DXk_k4KI"
      }
    },
    {
      "cell_type": "markdown",
      "source": [
        "### Возрастная группа-"
      ],
      "metadata": {
        "id": "EGkqroNRmv-Z"
      }
    },
    {
      "cell_type": "code",
      "source": [
        "plt.xticks(rotation=90)\n",
        "sns.countplot(data=data_raw,x='AgeCategory', hue='HadHeartAttack')\n",
        "pass"
      ],
      "metadata": {
        "colab": {
          "base_uri": "https://localhost:8080/",
          "height": 543
        },
        "id": "BmQuuBxHm3IY",
        "outputId": "b0add4c4-c3e2-4f77-823a-358bf8fb54d6"
      },
      "execution_count": 12,
      "outputs": [
        {
          "output_type": "display_data",
          "data": {
            "text/plain": [
              "<Figure size 640x480 with 1 Axes>"
            ],
            "image/png": "[encoded data removed]"
          },
          "metadata": {}
        }
      ]
    },
    {
      "cell_type": "markdown",
      "source": [
        "По диграмме мы можем сделать вывод, что сердечно-сосудистым заболеваниям больше всего подвержены люди старше 80 лет,а так же люди, чей возраст находится в промежутке между 70-ью и 74-мя годами."
      ],
      "metadata": {
        "id": "c85buVwgq5Qm"
      }
    },
    {
      "cell_type": "markdown",
      "source": [
        "### Физическая активность"
      ],
      "metadata": {
        "id": "8Qpz8V58rUuI"
      }
    },
    {
      "cell_type": "code",
      "source": [
        "sns.countplot(data=data_raw,x='PhysicalActivities', hue='HadHeartAttack')\n",
        "pass"
      ],
      "metadata": {
        "colab": {
          "base_uri": "https://localhost:8080/",
          "height": 449
        },
        "id": "Ylvd5sCvrf2v",
        "outputId": "dd7dd2a9-45fc-4f11-9417-f54ab3f8e3ce"
      },
      "execution_count": 13,
      "outputs": [
        {
          "output_type": "display_data",
          "data": {
            "text/plain": [
              "<Figure size 640x480 with 1 Axes>"
            ],
            "image/png": "[encoded data removed]"
          },
          "metadata": {}
        }
      ]
    },
    {
      "cell_type": "code",
      "source": [
        "activePeopleWithHeartAttack = len(data_raw[(data_raw['PhysicalActivities'] == 'Yes') & (data_raw['HadHeartAttack'] == 'Yes')])\n",
        "activePeopleAtAll = len(data_raw[(data_raw['PhysicalActivities'] == 'Yes')])\n",
        "\n",
        "nonActivtePeopleWithHeartAttack = len(data_raw[(data_raw['PhysicalActivities'] == 'No') & (data_raw['HadHeartAttack'] == 'Yes')])\n",
        "nonActivtePeopleAtAll = len(data_raw[(data_raw['PhysicalActivities'] == 'No')])\n",
        "\n",
        "(activePeopleWithHeartAttack / activePeopleAtAll) * 100 , (nonActivtePeopleWithHeartAttack / nonActivtePeopleAtAll) * 100"
      ],
      "metadata": {
        "colab": {
          "base_uri": "https://localhost:8080/"
        },
        "id": "R9juf9Z5svep",
        "outputId": "42306037-909f-450b-f5a3-b26229c15b5e"
      },
      "execution_count": 14,
      "outputs": [
        {
          "output_type": "execute_result",
          "data": {
            "text/plain": [
              "(4.528097310396109, 9.139744552967693)"
            ]
          },
          "metadata": {},
          "execution_count": 14
        }
      ]
    },
    {
      "cell_type": "markdown",
      "source": [
        "Несмотря на то, что количество сердечно-сосудистых заболеваний у людей, занимающихся физическими активностями, больше - это не означает, что у них они встречается чаще. Если посмотреть на количество данных, то мы можем увидеть, что людей, занимающихся физическими активностями примерно в 3 раза больше, чем не занимающихся. Но, посчитав, процентное соотношение людей с сердечно-сосудистыми заболеваниями среди активных и неактивных людей, мы видим, что в среднем, сердечно-сосудистые заболевания возникают в 2 раза чаще у физически неактивных людей, чем у активных."
      ],
      "metadata": {
        "id": "xRp-tiltrofi"
      }
    },
    {
      "cell_type": "markdown",
      "source": [
        "### Курение"
      ],
      "metadata": {
        "id": "K3xvQssuy1zL"
      }
    },
    {
      "cell_type": "code",
      "source": [
        "plt.xticks(rotation=90)\n",
        "sns.countplot(data=data_raw,x='SmokerStatus', hue='HadHeartAttack')\n",
        "pass"
      ],
      "metadata": {
        "colab": {
          "base_uri": "https://localhost:8080/",
          "height": 721
        },
        "id": "j2aQrvhUy4OH",
        "outputId": "7706eeb6-4811-4510-e637-5de50afae7e5"
      },
      "execution_count": 15,
      "outputs": [
        {
          "output_type": "display_data",
          "data": {
            "text/plain": [
              "<Figure size 640x480 with 1 Axes>"
            ],
            "image/png": "[encoded data removed]"
          },
          "metadata": {}
        }
      ]
    },
    {
      "cell_type": "code",
      "source": [
        "neverSmokeWithHeartAttack = len(data_raw[(data_raw['SmokerStatus'] == 'Never smoked') & (data_raw['HadHeartAttack'] == 'Yes')])\n",
        "neverSmokeAtAll = len(data_raw[(data_raw['SmokerStatus'] == 'Never smoked')])\n",
        "\n",
        "formerSmokeWithHeartAttack = len(data_raw[(data_raw['SmokerStatus'] == 'Former smoker') & (data_raw['HadHeartAttack'] == 'Yes')])\n",
        "formerSmokeAtAll = len(data_raw[(data_raw['SmokerStatus'] == 'Former smoker')])\n",
        "\n",
        "someSmokeWithHeartAttack = len(data_raw[(data_raw['SmokerStatus'] == 'Current smoker - now smokes some days') & (data_raw['HadHeartAttack'] == 'Yes')])\n",
        "someSmokeAtAll = len(data_raw[(data_raw['SmokerStatus'] == 'Current smoker - now smokes some days')])\n",
        "\n",
        "curSmokeWithHeartAttack = len(data_raw[(data_raw['SmokerStatus'] == 'Current smoker - now smokes every day') & (data_raw['HadHeartAttack'] == 'Yes')])\n",
        "curSmokeAtAll = len(data_raw[(data_raw['SmokerStatus'] == 'Current smoker - now smokes every day')])\n",
        "\n",
        "print(\"Never smoke: \" + str((neverSmokeWithHeartAttack / neverSmokeAtAll) * 100))\n",
        "print(\"Former smoker: \" + str((formerSmokeWithHeartAttack / formerSmokeAtAll) * 100))\n",
        "print(\"Current smoker - now smokes some days: \" + str((someSmokeWithHeartAttack / someSmokeAtAll) * 100))\n",
        "print(\"Current smoker - now smokes every day: \" + str((curSmokeWithHeartAttack / curSmokeAtAll) * 100))"
      ],
      "metadata": {
        "colab": {
          "base_uri": "https://localhost:8080/"
        },
        "id": "TvFqV7Md0eek",
        "outputId": "efd5f969-023f-478b-eb01-ddec362403d6"
      },
      "execution_count": 16,
      "outputs": [
        {
          "output_type": "stream",
          "name": "stdout",
          "text": [
            "Never smoke: 3.7832123762476875\n",
            "Former smoker: 8.581046636314097\n",
            "Current smoker - now smokes some days: 7.016788635385278\n",
            "Current smoker - now smokes every day: 8.827042190928534\n"
          ]
        }
      ]
    },
    {
      "cell_type": "markdown",
      "source": [
        "Если произведем рассчеты в процентом соотношении, то те, кто никогда не курил сталкивается с сердечно-сосудистыми заболеваниямя в 2 раза реже, чем тот, кто когда-либо курил. Так же можно заметить, что бывшие курильщики и те, кто курит каждый день чаще всего сталкивается с болезнями с сердцем. С чем это можем быть связано ? Возможно, бывшие курильщики - это те, кто из-за сердечно-сосудистого заболевания бросил курить и поэтому процент таких людей довольно большой."
      ],
      "metadata": {
        "id": "y528TbWI3XrB"
      }
    },
    {
      "cell_type": "code",
      "source": [
        "data_raw['SmokerStatus'].unique()"
      ],
      "metadata": {
        "colab": {
          "base_uri": "https://localhost:8080/"
        },
        "id": "2J97FYEu1wna",
        "outputId": "f934fbae-29de-4e54-dbe5-19c9308f7cf8"
      },
      "execution_count": 17,
      "outputs": [
        {
          "output_type": "execute_result",
          "data": {
            "text/plain": [
              "['Never smoked', 'Current smoker - now smokes some days', 'Former smoker', NaN, 'Current smoker - now smokes every day']\n",
              "Categories (4, object): ['Current smoker - now smokes every day', 'Current smoker - now smokes some days', 'Former smoker',\n",
              "                         'Never smoked']"
            ]
          },
          "metadata": {},
          "execution_count": 17
        }
      ]
    },
    {
      "cell_type": "markdown",
      "source": [
        "### Количество сна"
      ],
      "metadata": {
        "id": "H-6Q971G45nE"
      }
    },
    {
      "cell_type": "code",
      "source": [
        "sns.boxplot(x=\"HadHeartAttack\", y=\"SleepHours\", data=data_raw)\n",
        "pass"
      ],
      "metadata": {
        "colab": {
          "base_uri": "https://localhost:8080/",
          "height": 453
        },
        "id": "SNKXb-ai4743",
        "outputId": "85943de9-d509-4b7b-d1a9-d22f98ba0fad"
      },
      "execution_count": 18,
      "outputs": [
        {
          "output_type": "display_data",
          "data": {
            "text/plain": [
              "<Figure size 640x480 with 1 Axes>"
            ],
            "image/png": "[encoded data removed]"
          },
          "metadata": {}
        }
      ]
    },
    {
      "cell_type": "markdown",
      "source": [
        "Здесь ничего сказать нельзя, классы достаточно сбалансированны в смысле количества сна."
      ],
      "metadata": {
        "id": "1ELniy3I7dRA"
      }
    },
    {
      "cell_type": "markdown",
      "source": [],
      "metadata": {
        "id": "J6F2EXqBwZ84"
      }
    },
    {
      "cell_type": "markdown",
      "source": [
        "### Алкоголь"
      ],
      "metadata": {
        "id": "QaNnR67V8A6s"
      }
    },
    {
      "cell_type": "code",
      "source": [
        "sns.countplot(data=data_raw,x='AlcoholDrinkers', hue='HadHeartAttack')\n",
        "pass"
      ],
      "metadata": {
        "colab": {
          "base_uri": "https://localhost:8080/",
          "height": 449
        },
        "id": "X692Oiyj8ExF",
        "outputId": "f5829ec6-7a28-477c-dc63-1cb5b321e44d"
      },
      "execution_count": 19,
      "outputs": [
        {
          "output_type": "display_data",
          "data": {
            "text/plain": [
              "<Figure size 640x480 with 1 Axes>"
            ],
            "image/png": "[encoded data removed]"
          },
          "metadata": {}
        }
      ]
    },
    {
      "cell_type": "code",
      "source": [
        "alcoholDrinkersWithHeartAttack = len(data_raw[(data_raw['AlcoholDrinkers'] == 'Yes') & (data_raw['HadHeartAttack'] == 'Yes')])\n",
        "alcoholDrinkersAtAll = len(data_raw[(data_raw['AlcoholDrinkers'] == 'Yes')])\n",
        "\n",
        "nonAlcoholDrinkersWithHeartAttack = len(data_raw[(data_raw['AlcoholDrinkers'] == 'No') & (data_raw['HadHeartAttack'] == 'Yes')])\n",
        "nonAlcoholDrinkersAtAll = len(data_raw[(data_raw['AlcoholDrinkers'] == 'No')])\n",
        "\n",
        "(alcoholDrinkersWithHeartAttack / alcoholDrinkersAtAll) * 100 , (nonAlcoholDrinkersWithHeartAttack / nonAlcoholDrinkersAtAll) * 100"
      ],
      "metadata": {
        "colab": {
          "base_uri": "https://localhost:8080/"
        },
        "id": "L3NmvbKY8wGf",
        "outputId": "9faacaa1-4b7c-4e78-b94c-310d6989f0af"
      },
      "execution_count": 20,
      "outputs": [
        {
          "output_type": "execute_result",
          "data": {
            "text/plain": [
              "(4.040950064251201, 7.491460938790517)"
            ]
          },
          "metadata": {},
          "execution_count": 20
        }
      ]
    },
    {
      "cell_type": "markdown",
      "source": [
        "Те, кто не пьет алкоголь страдают от сердечно-сосудистых заболеваний почти в 2 раза реже, чем те, кто его пьет."
      ],
      "metadata": {
        "id": "Zf0GrKsE9E1N"
      }
    },
    {
      "cell_type": "markdown",
      "source": [
        "## 4. Обработка пропущенных значений"
      ],
      "metadata": {
        "id": "trUO5UDFM3ri"
      }
    },
    {
      "cell_type": "markdown",
      "source": [
        "Посмотрим сначала на то, где именно и в каких количествах имеются пропущенные значения"
      ],
      "metadata": {
        "id": "TKFezPtgNEnP"
      }
    },
    {
      "cell_type": "code",
      "source": [
        "data_raw.isnull().sum()"
      ],
      "metadata": {
        "colab": {
          "base_uri": "https://localhost:8080/"
        },
        "id": "x9t9fBDhNB5O",
        "outputId": "39dc500e-5b1e-4b49-95cf-e2710f228741"
      },
      "execution_count": 21,
      "outputs": [
        {
          "output_type": "execute_result",
          "data": {
            "text/plain": [
              "State                            0\n",
              "Sex                              0\n",
              "GeneralHealth                 1198\n",
              "PhysicalHealthDays           10927\n",
              "MentalHealthDays              9067\n",
              "LastCheckupTime               8308\n",
              "PhysicalActivities            1093\n",
              "SleepHours                    5453\n",
              "RemovedTeeth                 11360\n",
              "HadHeartAttack                3065\n",
              "HadAngina                     4405\n",
              "HadStroke                     1557\n",
              "HadAsthma                     1773\n",
              "HadSkinCancer                 3143\n",
              "HadCOPD                       2219\n",
              "HadDepressiveDisorder         2812\n",
              "HadKidneyDisease              1926\n",
              "HadArthritis                  2633\n",
              "HadDiabetes                   1087\n",
              "DeafOrHardOfHearing          20647\n",
              "BlindOrVisionDifficulty      21564\n",
              "DifficultyConcentrating      24240\n",
              "DifficultyWalking            24012\n",
              "DifficultyDressingBathing    23915\n",
              "DifficultyErrands            25656\n",
              "SmokerStatus                 35462\n",
              "ECigaretteUsage              35660\n",
              "ChestScan                    56046\n",
              "RaceEthnicityCategory        14057\n",
              "AgeCategory                   9079\n",
              "HeightInMeters               28652\n",
              "WeightInKilograms            42078\n",
              "BMI                          48806\n",
              "AlcoholDrinkers              46574\n",
              "HIVTesting                   66127\n",
              "FluVaxLast12                 47121\n",
              "PneumoVaxEver                77040\n",
              "TetanusLast10Tdap            82516\n",
              "HighRiskLastYear             50623\n",
              "CovidPos                     50764\n",
              "dtype: int64"
            ]
          },
          "metadata": {},
          "execution_count": 21
        }
      ]
    },
    {
      "cell_type": "markdown",
      "source": [
        "Отбросим столбцы, которые, по моему мнению, являются странными и не должны на первый взгляд влиять на возникновение у человека проблем с сердцем"
      ],
      "metadata": {
        "id": "nI7hOvUV-zzs"
      }
    },
    {
      "cell_type": "code",
      "source": [
        "data = data_raw.drop('RemovedTeeth', axis=1).drop('DifficultyErrands', axis=1).drop('DifficultyDressingBathing', axis=1).drop('HIVTesting', axis=1).drop('FluVaxLast12', axis=1).drop('TetanusLast10Tdap', axis=1)\n",
        "data = data.drop('PneumoVaxEver', axis=1).drop('DeafOrHardOfHearing', axis=1).drop('BlindOrVisionDifficulty', axis=1).drop('State', axis=1)\n",
        "data.isna().sum()"
      ],
      "metadata": {
        "colab": {
          "base_uri": "https://localhost:8080/"
        },
        "id": "bwWPKq1F9Yas",
        "outputId": "30614c23-42d4-4af5-938f-61f1e8f10e96"
      },
      "execution_count": 22,
      "outputs": [
        {
          "output_type": "execute_result",
          "data": {
            "text/plain": [
              "Sex                            0\n",
              "GeneralHealth               1198\n",
              "PhysicalHealthDays         10927\n",
              "MentalHealthDays            9067\n",
              "LastCheckupTime             8308\n",
              "PhysicalActivities          1093\n",
              "SleepHours                  5453\n",
              "HadHeartAttack              3065\n",
              "HadAngina                   4405\n",
              "HadStroke                   1557\n",
              "HadAsthma                   1773\n",
              "HadSkinCancer               3143\n",
              "HadCOPD                     2219\n",
              "HadDepressiveDisorder       2812\n",
              "HadKidneyDisease            1926\n",
              "HadArthritis                2633\n",
              "HadDiabetes                 1087\n",
              "DifficultyConcentrating    24240\n",
              "DifficultyWalking          24012\n",
              "SmokerStatus               35462\n",
              "ECigaretteUsage            35660\n",
              "ChestScan                  56046\n",
              "RaceEthnicityCategory      14057\n",
              "AgeCategory                 9079\n",
              "HeightInMeters             28652\n",
              "WeightInKilograms          42078\n",
              "BMI                        48806\n",
              "AlcoholDrinkers            46574\n",
              "HighRiskLastYear           50623\n",
              "CovidPos                   50764\n",
              "dtype: int64"
            ]
          },
          "metadata": {},
          "execution_count": 22
        }
      ]
    },
    {
      "cell_type": "markdown",
      "source": [
        "Заполним пропущенные числовые признаки"
      ],
      "metadata": {
        "id": "w8kebjIIBXkG"
      }
    },
    {
      "cell_type": "code",
      "source": [
        "from sklearn.impute import SimpleImputer\n",
        "imp_num = SimpleImputer(missing_values=np.nan, strategy='median')\n",
        "imp_num.fit(data[['PhysicalHealthDays', 'MentalHealthDays', 'SleepHours', 'HeightInMeters', 'WeightInKilograms', 'BMI']])"
      ],
      "metadata": {
        "colab": {
          "base_uri": "https://localhost:8080/",
          "height": 75
        },
        "id": "JcqbH4LiBa8p",
        "outputId": "ec987c11-64ad-4674-aeab-067efecb05b8"
      },
      "execution_count": 23,
      "outputs": [
        {
          "output_type": "execute_result",
          "data": {
            "text/plain": [
              "SimpleImputer(strategy='median')"
            ],
            "text/html": [
              "<style>#sk-container-id-1 {color: black;background-color: white;}#sk-container-id-1 pre{padding: 0;}#sk-container-id-1 div.sk-toggleable {background-color: white;}#sk-container-id-1 label.sk-toggleable__label {cursor: pointer;display: block;width: 100%;margin-bottom: 0;padding: 0.3em;box-sizing: border-box;text-align: center;}#sk-container-id-1 label.sk-toggleable__label-arrow:before {content: \"▸\";float: left;margin-right: 0.25em;color: #696969;}#sk-container-id-1 label.sk-toggleable__label-arrow:hover:before {color: black;}#sk-container-id-1 div.sk-estimator:hover label.sk-toggleable__label-arrow:before {color: black;}#sk-container-id-1 div.sk-toggleable__content {max-height: 0;max-width: 0;overflow: hidden;text-align: left;background-color: #f0f8ff;}#sk-container-id-1 div.sk-toggleable__content pre {margin: 0.2em;color: black;border-radius: 0.25em;background-color: #f0f8ff;}#sk-container-id-1 input.sk-toggleable__control:checked~div.sk-toggleable__content {max-height: 200px;max-width: 100%;overflow: auto;}#sk-container-id-1 input.sk-toggleable__control:checked~label.sk-toggleable__label-arrow:before {content: \"▾\";}#sk-container-id-1 div.sk-estimator input.sk-toggleable__control:checked~label.sk-toggleable__label {background-color: #d4ebff;}#sk-container-id-1 div.sk-label input.sk-toggleable__control:checked~label.sk-toggleable__label {background-color: #d4ebff;}#sk-container-id-1 input.sk-hidden--visually {border: 0;clip: rect(1px 1px 1px 1px);clip: rect(1px, 1px, 1px, 1px);height: 1px;margin: -1px;overflow: hidden;padding: 0;position: absolute;width: 1px;}#sk-container-id-1 div.sk-estimator {font-family: monospace;background-color: #f0f8ff;border: 1px dotted black;border-radius: 0.25em;box-sizing: border-box;margin-bottom: 0.5em;}#sk-container-id-1 div.sk-estimator:hover {background-color: #d4ebff;}#sk-container-id-1 div.sk-parallel-item::after {content: \"\";width: 100%;border-bottom: 1px solid gray;flex-grow: 1;}#sk-container-id-1 div.sk-label:hover label.sk-toggleable__label {background-color: #d4ebff;}#sk-container-id-1 div.sk-serial::before {content: \"\";position: absolute;border-left: 1px solid gray;box-sizing: border-box;top: 0;bottom: 0;left: 50%;z-index: 0;}#sk-container-id-1 div.sk-serial {display: flex;flex-direction: column;align-items: center;background-color: white;padding-right: 0.2em;padding-left: 0.2em;position: relative;}#sk-container-id-1 div.sk-item {position: relative;z-index: 1;}#sk-container-id-1 div.sk-parallel {display: flex;align-items: stretch;justify-content: center;background-color: white;position: relative;}#sk-container-id-1 div.sk-item::before, #sk-container-id-1 div.sk-parallel-item::before {content: \"\";position: absolute;border-left: 1px solid gray;box-sizing: border-box;top: 0;bottom: 0;left: 50%;z-index: -1;}#sk-container-id-1 div.sk-parallel-item {display: flex;flex-direction: column;z-index: 1;position: relative;background-color: white;}#sk-container-id-1 div.sk-parallel-item:first-child::after {align-self: flex-end;width: 50%;}#sk-container-id-1 div.sk-parallel-item:last-child::after {align-self: flex-start;width: 50%;}#sk-container-id-1 div.sk-parallel-item:only-child::after {width: 0;}#sk-container-id-1 div.sk-dashed-wrapped {border: 1px dashed gray;margin: 0 0.4em 0.5em 0.4em;box-sizing: border-box;padding-bottom: 0.4em;background-color: white;}#sk-container-id-1 div.sk-label label {font-family: monospace;font-weight: bold;display: inline-block;line-height: 1.2em;}#sk-container-id-1 div.sk-label-container {text-align: center;}#sk-container-id-1 div.sk-container {/* jupyter's `normalize.less` sets `[hidden] { display: none; }` but bootstrap.min.css set `[hidden] { display: none !important; }` so we also need the `!important` here to be able to override the default hidden behavior on the sphinx rendered scikit-learn.org. See: https://github.com/scikit-learn/scikit-learn/issues/21755 */display: inline-block !important;position: relative;}#sk-container-id-1 div.sk-text-repr-fallback {display: none;}</style><div id=\"sk-container-id-1\" class=\"sk-top-container\"><div class=\"sk-text-repr-fallback\"><pre>SimpleImputer(strategy=&#x27;median&#x27;)</pre><b>In a Jupyter environment, please rerun this cell to show the HTML representation or trust the notebook. <br />On GitHub, the HTML representation is unable to render, please try loading this page with nbviewer.org.</b></div><div class=\"sk-container\" hidden><div class=\"sk-item\"><div class=\"sk-estimator sk-toggleable\"><input class=\"sk-toggleable__control sk-hidden--visually\" id=\"sk-estimator-id-1\" type=\"checkbox\" checked><label for=\"sk-estimator-id-1\" class=\"sk-toggleable__label sk-toggleable__label-arrow\">SimpleImputer</label><div class=\"sk-toggleable__content\"><pre>SimpleImputer(strategy=&#x27;median&#x27;)</pre></div></div></div></div></div>"
            ]
          },
          "metadata": {},
          "execution_count": 23
        }
      ]
    },
    {
      "cell_type": "code",
      "source": [
        "data[['PhysicalHealthDays', 'MentalHealthDays', 'SleepHours', 'HeightInMeters', 'WeightInKilograms', 'BMI']] = imp_num.transform(data[['PhysicalHealthDays', 'MentalHealthDays', 'SleepHours', 'HeightInMeters', 'WeightInKilograms', 'BMI']])"
      ],
      "metadata": {
        "id": "0hzoGAxsB0Gz"
      },
      "execution_count": 24,
      "outputs": []
    },
    {
      "cell_type": "code",
      "source": [
        "data.isna().sum()"
      ],
      "metadata": {
        "colab": {
          "base_uri": "https://localhost:8080/"
        },
        "id": "XNGeJdiPCBfZ",
        "outputId": "1b2cd6d4-ea3d-441b-8828-35a6a8b8c366"
      },
      "execution_count": 25,
      "outputs": [
        {
          "output_type": "execute_result",
          "data": {
            "text/plain": [
              "Sex                            0\n",
              "GeneralHealth               1198\n",
              "PhysicalHealthDays             0\n",
              "MentalHealthDays               0\n",
              "LastCheckupTime             8308\n",
              "PhysicalActivities          1093\n",
              "SleepHours                     0\n",
              "HadHeartAttack              3065\n",
              "HadAngina                   4405\n",
              "HadStroke                   1557\n",
              "HadAsthma                   1773\n",
              "HadSkinCancer               3143\n",
              "HadCOPD                     2219\n",
              "HadDepressiveDisorder       2812\n",
              "HadKidneyDisease            1926\n",
              "HadArthritis                2633\n",
              "HadDiabetes                 1087\n",
              "DifficultyConcentrating    24240\n",
              "DifficultyWalking          24012\n",
              "SmokerStatus               35462\n",
              "ECigaretteUsage            35660\n",
              "ChestScan                  56046\n",
              "RaceEthnicityCategory      14057\n",
              "AgeCategory                 9079\n",
              "HeightInMeters                 0\n",
              "WeightInKilograms              0\n",
              "BMI                            0\n",
              "AlcoholDrinkers            46574\n",
              "HighRiskLastYear           50623\n",
              "CovidPos                   50764\n",
              "dtype: int64"
            ]
          },
          "metadata": {},
          "execution_count": 25
        }
      ]
    },
    {
      "cell_type": "markdown",
      "source": [
        "Отбросим строчки, в которых нет значения для признака о наличии сердечно-сосудистого заболевания, так как заполнить этот признак просто наиболее часто встречающимися значениями было бы странно"
      ],
      "metadata": {
        "id": "KZ2jI_grCn7d"
      }
    },
    {
      "cell_type": "code",
      "source": [
        "data = data.dropna(subset=['HadHeartAttack'])"
      ],
      "metadata": {
        "id": "ojqvU4moC4CO"
      },
      "execution_count": 26,
      "outputs": []
    },
    {
      "cell_type": "markdown",
      "source": [
        "Все оставшиеся пропущенные признаки являеются категориальными. Просто выбросить мы их не можем, так как тогда потеряем слишком много данных (в некоторых категориальных признаках количество пропущенных значений достигает 50 тысяч). Заполним такие признаки наиболее часто встречающимися."
      ],
      "metadata": {
        "id": "vr9O1FNBED23"
      }
    },
    {
      "cell_type": "code",
      "source": [
        "imp_cat = SimpleImputer(missing_values=np.nan, strategy='most_frequent')\n",
        "categorical = [c for c in data.columns if data[c].dtype.name == 'category']\n",
        "numerical = [c for c in data.columns if data[c].dtype.name == 'float64']\n",
        "imp_cat.fit(data[categorical])"
      ],
      "metadata": {
        "colab": {
          "base_uri": "https://localhost:8080/",
          "height": 75
        },
        "id": "olemt5xfEVLc",
        "outputId": "91bac6c6-248a-483e-cc51-ef335413a50a"
      },
      "execution_count": 27,
      "outputs": [
        {
          "output_type": "execute_result",
          "data": {
            "text/plain": [
              "SimpleImputer(strategy='most_frequent')"
            ],
            "text/html": [
              "<style>#sk-container-id-2 {color: black;background-color: white;}#sk-container-id-2 pre{padding: 0;}#sk-container-id-2 div.sk-toggleable {background-color: white;}#sk-container-id-2 label.sk-toggleable__label {cursor: pointer;display: block;width: 100%;margin-bottom: 0;padding: 0.3em;box-sizing: border-box;text-align: center;}#sk-container-id-2 label.sk-toggleable__label-arrow:before {content: \"▸\";float: left;margin-right: 0.25em;color: #696969;}#sk-container-id-2 label.sk-toggleable__label-arrow:hover:before {color: black;}#sk-container-id-2 div.sk-estimator:hover label.sk-toggleable__label-arrow:before {color: black;}#sk-container-id-2 div.sk-toggleable__content {max-height: 0;max-width: 0;overflow: hidden;text-align: left;background-color: #f0f8ff;}#sk-container-id-2 div.sk-toggleable__content pre {margin: 0.2em;color: black;border-radius: 0.25em;background-color: #f0f8ff;}#sk-container-id-2 input.sk-toggleable__control:checked~div.sk-toggleable__content {max-height: 200px;max-width: 100%;overflow: auto;}#sk-container-id-2 input.sk-toggleable__control:checked~label.sk-toggleable__label-arrow:before {content: \"▾\";}#sk-container-id-2 div.sk-estimator input.sk-toggleable__control:checked~label.sk-toggleable__label {background-color: #d4ebff;}#sk-container-id-2 div.sk-label input.sk-toggleable__control:checked~label.sk-toggleable__label {background-color: #d4ebff;}#sk-container-id-2 input.sk-hidden--visually {border: 0;clip: rect(1px 1px 1px 1px);clip: rect(1px, 1px, 1px, 1px);height: 1px;margin: -1px;overflow: hidden;padding: 0;position: absolute;width: 1px;}#sk-container-id-2 div.sk-estimator {font-family: monospace;background-color: #f0f8ff;border: 1px dotted black;border-radius: 0.25em;box-sizing: border-box;margin-bottom: 0.5em;}#sk-container-id-2 div.sk-estimator:hover {background-color: #d4ebff;}#sk-container-id-2 div.sk-parallel-item::after {content: \"\";width: 100%;border-bottom: 1px solid gray;flex-grow: 1;}#sk-container-id-2 div.sk-label:hover label.sk-toggleable__label {background-color: #d4ebff;}#sk-container-id-2 div.sk-serial::before {content: \"\";position: absolute;border-left: 1px solid gray;box-sizing: border-box;top: 0;bottom: 0;left: 50%;z-index: 0;}#sk-container-id-2 div.sk-serial {display: flex;flex-direction: column;align-items: center;background-color: white;padding-right: 0.2em;padding-left: 0.2em;position: relative;}#sk-container-id-2 div.sk-item {position: relative;z-index: 1;}#sk-container-id-2 div.sk-parallel {display: flex;align-items: stretch;justify-content: center;background-color: white;position: relative;}#sk-container-id-2 div.sk-item::before, #sk-container-id-2 div.sk-parallel-item::before {content: \"\";position: absolute;border-left: 1px solid gray;box-sizing: border-box;top: 0;bottom: 0;left: 50%;z-index: -1;}#sk-container-id-2 div.sk-parallel-item {display: flex;flex-direction: column;z-index: 1;position: relative;background-color: white;}#sk-container-id-2 div.sk-parallel-item:first-child::after {align-self: flex-end;width: 50%;}#sk-container-id-2 div.sk-parallel-item:last-child::after {align-self: flex-start;width: 50%;}#sk-container-id-2 div.sk-parallel-item:only-child::after {width: 0;}#sk-container-id-2 div.sk-dashed-wrapped {border: 1px dashed gray;margin: 0 0.4em 0.5em 0.4em;box-sizing: border-box;padding-bottom: 0.4em;background-color: white;}#sk-container-id-2 div.sk-label label {font-family: monospace;font-weight: bold;display: inline-block;line-height: 1.2em;}#sk-container-id-2 div.sk-label-container {text-align: center;}#sk-container-id-2 div.sk-container {/* jupyter's `normalize.less` sets `[hidden] { display: none; }` but bootstrap.min.css set `[hidden] { display: none !important; }` so we also need the `!important` here to be able to override the default hidden behavior on the sphinx rendered scikit-learn.org. See: https://github.com/scikit-learn/scikit-learn/issues/21755 */display: inline-block !important;position: relative;}#sk-container-id-2 div.sk-text-repr-fallback {display: none;}</style><div id=\"sk-container-id-2\" class=\"sk-top-container\"><div class=\"sk-text-repr-fallback\"><pre>SimpleImputer(strategy=&#x27;most_frequent&#x27;)</pre><b>In a Jupyter environment, please rerun this cell to show the HTML representation or trust the notebook. <br />On GitHub, the HTML representation is unable to render, please try loading this page with nbviewer.org.</b></div><div class=\"sk-container\" hidden><div class=\"sk-item\"><div class=\"sk-estimator sk-toggleable\"><input class=\"sk-toggleable__control sk-hidden--visually\" id=\"sk-estimator-id-2\" type=\"checkbox\" checked><label for=\"sk-estimator-id-2\" class=\"sk-toggleable__label sk-toggleable__label-arrow\">SimpleImputer</label><div class=\"sk-toggleable__content\"><pre>SimpleImputer(strategy=&#x27;most_frequent&#x27;)</pre></div></div></div></div></div>"
            ]
          },
          "metadata": {},
          "execution_count": 27
        }
      ]
    },
    {
      "cell_type": "code",
      "source": [
        "data[categorical] = imp_cat.transform(data[categorical])\n",
        "data.isna().sum()"
      ],
      "metadata": {
        "colab": {
          "base_uri": "https://localhost:8080/"
        },
        "id": "VuB30OtWE6cN",
        "outputId": "bf86423b-5adf-4671-b32a-8370b7d19e96"
      },
      "execution_count": 28,
      "outputs": [
        {
          "output_type": "execute_result",
          "data": {
            "text/plain": [
              "Sex                        0\n",
              "GeneralHealth              0\n",
              "PhysicalHealthDays         0\n",
              "MentalHealthDays           0\n",
              "LastCheckupTime            0\n",
              "PhysicalActivities         0\n",
              "SleepHours                 0\n",
              "HadHeartAttack             0\n",
              "HadAngina                  0\n",
              "HadStroke                  0\n",
              "HadAsthma                  0\n",
              "HadSkinCancer              0\n",
              "HadCOPD                    0\n",
              "HadDepressiveDisorder      0\n",
              "HadKidneyDisease           0\n",
              "HadArthritis               0\n",
              "HadDiabetes                0\n",
              "DifficultyConcentrating    0\n",
              "DifficultyWalking          0\n",
              "SmokerStatus               0\n",
              "ECigaretteUsage            0\n",
              "ChestScan                  0\n",
              "RaceEthnicityCategory      0\n",
              "AgeCategory                0\n",
              "HeightInMeters             0\n",
              "WeightInKilograms          0\n",
              "BMI                        0\n",
              "AlcoholDrinkers            0\n",
              "HighRiskLastYear           0\n",
              "CovidPos                   0\n",
              "dtype: int64"
            ]
          },
          "metadata": {},
          "execution_count": 28
        }
      ]
    },
    {
      "cell_type": "markdown",
      "source": [
        "Таким образом, мы избавились от всех пропущенных значений."
      ],
      "metadata": {
        "id": "qzCtJ7ZhFNo7"
      }
    },
    {
      "cell_type": "markdown",
      "source": [
        "## 5. Обработка категориальных признаков"
      ],
      "metadata": {
        "id": "hc1QJH18FMQ0"
      }
    },
    {
      "cell_type": "code",
      "source": [
        "from sklearn.preprocessing import OneHotEncoder\n",
        "enc = OneHotEncoder(drop='if_binary', sparse=False)\n",
        "enc.fit(data[categorical])"
      ],
      "metadata": {
        "colab": {
          "base_uri": "https://localhost:8080/",
          "height": 129
        },
        "id": "QiRKpqGcFbp3",
        "outputId": "ee0ab1ae-80a8-4d7b-ef04-925962c87e04"
      },
      "execution_count": 29,
      "outputs": [
        {
          "output_type": "stream",
          "name": "stderr",
          "text": [
            "/usr/local/lib/python3.10/dist-packages/sklearn/preprocessing/_encoders.py:868: FutureWarning: `sparse` was renamed to `sparse_output` in version 1.2 and will be removed in 1.4. `sparse_output` is ignored unless you leave `sparse` to its default value.\n",
            "  warnings.warn(\n"
          ]
        },
        {
          "output_type": "execute_result",
          "data": {
            "text/plain": [
              "OneHotEncoder(drop='if_binary', sparse=False, sparse_output=False)"
            ],
            "text/html": [
              "<style>#sk-container-id-3 {color: black;background-color: white;}#sk-container-id-3 pre{padding: 0;}#sk-container-id-3 div.sk-toggleable {background-color: white;}#sk-container-id-3 label.sk-toggleable__label {cursor: pointer;display: block;width: 100%;margin-bottom: 0;padding: 0.3em;box-sizing: border-box;text-align: center;}#sk-container-id-3 label.sk-toggleable__label-arrow:before {content: \"▸\";float: left;margin-right: 0.25em;color: #696969;}#sk-container-id-3 label.sk-toggleable__label-arrow:hover:before {color: black;}#sk-container-id-3 div.sk-estimator:hover label.sk-toggleable__label-arrow:before {color: black;}#sk-container-id-3 div.sk-toggleable__content {max-height: 0;max-width: 0;overflow: hidden;text-align: left;background-color: #f0f8ff;}#sk-container-id-3 div.sk-toggleable__content pre {margin: 0.2em;color: black;border-radius: 0.25em;background-color: #f0f8ff;}#sk-container-id-3 input.sk-toggleable__control:checked~div.sk-toggleable__content {max-height: 200px;max-width: 100%;overflow: auto;}#sk-container-id-3 input.sk-toggleable__control:checked~label.sk-toggleable__label-arrow:before {content: \"▾\";}#sk-container-id-3 div.sk-estimator input.sk-toggleable__control:checked~label.sk-toggleable__label {background-color: #d4ebff;}#sk-container-id-3 div.sk-label input.sk-toggleable__control:checked~label.sk-toggleable__label {background-color: #d4ebff;}#sk-container-id-3 input.sk-hidden--visually {border: 0;clip: rect(1px 1px 1px 1px);clip: rect(1px, 1px, 1px, 1px);height: 1px;margin: -1px;overflow: hidden;padding: 0;position: absolute;width: 1px;}#sk-container-id-3 div.sk-estimator {font-family: monospace;background-color: #f0f8ff;border: 1px dotted black;border-radius: 0.25em;box-sizing: border-box;margin-bottom: 0.5em;}#sk-container-id-3 div.sk-estimator:hover {background-color: #d4ebff;}#sk-container-id-3 div.sk-parallel-item::after {content: \"\";width: 100%;border-bottom: 1px solid gray;flex-grow: 1;}#sk-container-id-3 div.sk-label:hover label.sk-toggleable__label {background-color: #d4ebff;}#sk-container-id-3 div.sk-serial::before {content: \"\";position: absolute;border-left: 1px solid gray;box-sizing: border-box;top: 0;bottom: 0;left: 50%;z-index: 0;}#sk-container-id-3 div.sk-serial {display: flex;flex-direction: column;align-items: center;background-color: white;padding-right: 0.2em;padding-left: 0.2em;position: relative;}#sk-container-id-3 div.sk-item {position: relative;z-index: 1;}#sk-container-id-3 div.sk-parallel {display: flex;align-items: stretch;justify-content: center;background-color: white;position: relative;}#sk-container-id-3 div.sk-item::before, #sk-container-id-3 div.sk-parallel-item::before {content: \"\";position: absolute;border-left: 1px solid gray;box-sizing: border-box;top: 0;bottom: 0;left: 50%;z-index: -1;}#sk-container-id-3 div.sk-parallel-item {display: flex;flex-direction: column;z-index: 1;position: relative;background-color: white;}#sk-container-id-3 div.sk-parallel-item:first-child::after {align-self: flex-end;width: 50%;}#sk-container-id-3 div.sk-parallel-item:last-child::after {align-self: flex-start;width: 50%;}#sk-container-id-3 div.sk-parallel-item:only-child::after {width: 0;}#sk-container-id-3 div.sk-dashed-wrapped {border: 1px dashed gray;margin: 0 0.4em 0.5em 0.4em;box-sizing: border-box;padding-bottom: 0.4em;background-color: white;}#sk-container-id-3 div.sk-label label {font-family: monospace;font-weight: bold;display: inline-block;line-height: 1.2em;}#sk-container-id-3 div.sk-label-container {text-align: center;}#sk-container-id-3 div.sk-container {/* jupyter's `normalize.less` sets `[hidden] { display: none; }` but bootstrap.min.css set `[hidden] { display: none !important; }` so we also need the `!important` here to be able to override the default hidden behavior on the sphinx rendered scikit-learn.org. See: https://github.com/scikit-learn/scikit-learn/issues/21755 */display: inline-block !important;position: relative;}#sk-container-id-3 div.sk-text-repr-fallback {display: none;}</style><div id=\"sk-container-id-3\" class=\"sk-top-container\"><div class=\"sk-text-repr-fallback\"><pre>OneHotEncoder(drop=&#x27;if_binary&#x27;, sparse=False, sparse_output=False)</pre><b>In a Jupyter environment, please rerun this cell to show the HTML representation or trust the notebook. <br />On GitHub, the HTML representation is unable to render, please try loading this page with nbviewer.org.</b></div><div class=\"sk-container\" hidden><div class=\"sk-item\"><div class=\"sk-estimator sk-toggleable\"><input class=\"sk-toggleable__control sk-hidden--visually\" id=\"sk-estimator-id-3\" type=\"checkbox\" checked><label for=\"sk-estimator-id-3\" class=\"sk-toggleable__label sk-toggleable__label-arrow\">OneHotEncoder</label><div class=\"sk-toggleable__content\"><pre>OneHotEncoder(drop=&#x27;if_binary&#x27;, sparse=False, sparse_output=False)</pre></div></div></div></div></div>"
            ]
          },
          "metadata": {},
          "execution_count": 29
        }
      ]
    },
    {
      "cell_type": "code",
      "source": [
        "dummies = pd.DataFrame(enc.transform(data[categorical]),\n",
        "                       columns=enc.get_feature_names_out(), index=data.index)\n",
        "data = pd.concat((data, dummies), axis=1).drop(categorical, axis=1)"
      ],
      "metadata": {
        "id": "YWRDJokBHM1Y"
      },
      "execution_count": 30,
      "outputs": []
    },
    {
      "cell_type": "code",
      "source": [
        "data.shape"
      ],
      "metadata": {
        "colab": {
          "base_uri": "https://localhost:8080/"
        },
        "id": "NCx-h-nSHp0o",
        "outputId": "41ebf34c-af2d-4fab-b734-41e44d4e0785"
      },
      "execution_count": 31,
      "outputs": [
        {
          "output_type": "execute_result",
          "data": {
            "text/plain": [
              "(442067, 64)"
            ]
          },
          "metadata": {},
          "execution_count": 31
        }
      ]
    },
    {
      "cell_type": "markdown",
      "source": [
        "### 6. Нормализация"
      ],
      "metadata": {
        "id": "AkB157tDIrX1"
      }
    },
    {
      "cell_type": "markdown",
      "source": [
        "В нашем случае нормализация нужна, так как диапазон значений числовых признаков сильно различается, причем логики в том, что какой-то числовой признак имеет большее значение на результат классификации и в целом имеет большие значения - нет. Например, рост человека имеет значения от 100 и более, а количество часов сна от 1 до 24. Но при этом, рост не является более важным признаком, чем количество часов сна в нашей задаче."
      ],
      "metadata": {
        "id": "YYioERrMI5F9"
      }
    },
    {
      "cell_type": "code",
      "source": [
        "from sklearn.preprocessing import StandardScaler\n",
        "scaler = StandardScaler()\n",
        "numerical_data = data[numerical].copy()\n",
        "scaler.fit(numerical_data)\n",
        "data_numerical = pd.DataFrame(scaler.transform(numerical_data), columns=numerical, index=numerical_data.index)\n",
        "data = pd.concat((data.drop(numerical, axis=1), data_numerical), axis=1)"
      ],
      "metadata": {
        "id": "X_yiGe1UJTZg"
      },
      "execution_count": 32,
      "outputs": []
    },
    {
      "cell_type": "code",
      "source": [
        "data.head(5)"
      ],
      "metadata": {
        "colab": {
          "base_uri": "https://localhost:8080/",
          "height": 342
        },
        "id": "mdnw4OfeRXqO",
        "outputId": "be97a880-df0c-4db7-c1e8-ba3b0da4d0ca"
      },
      "execution_count": 35,
      "outputs": [
        {
          "output_type": "execute_result",
          "data": {
            "text/plain": [
              "   Sex_Male  GeneralHealth_Excellent  GeneralHealth_Fair  GeneralHealth_Good  \\\n",
              "0       0.0                      0.0                 0.0                 0.0   \n",
              "1       0.0                      1.0                 0.0                 0.0   \n",
              "2       0.0                      0.0                 0.0                 0.0   \n",
              "3       0.0                      1.0                 0.0                 0.0   \n",
              "4       0.0                      0.0                 1.0                 0.0   \n",
              "\n",
              "   GeneralHealth_Poor  GeneralHealth_Very good  \\\n",
              "0                 0.0                      1.0   \n",
              "1                 0.0                      0.0   \n",
              "2                 0.0                      1.0   \n",
              "3                 0.0                      0.0   \n",
              "4                 0.0                      0.0   \n",
              "\n",
              "   LastCheckupTime_5 or more years ago  \\\n",
              "0                                  0.0   \n",
              "1                                  0.0   \n",
              "2                                  0.0   \n",
              "3                                  0.0   \n",
              "4                                  0.0   \n",
              "\n",
              "   LastCheckupTime_Within past 2 years (1 year but less than 2 years ago)  \\\n",
              "0                                                0.0                        \n",
              "1                                                0.0                        \n",
              "2                                                0.0                        \n",
              "3                                                0.0                        \n",
              "4                                                0.0                        \n",
              "\n",
              "   LastCheckupTime_Within past 5 years (2 years but less than 5 years ago)  \\\n",
              "0                                                0.0                         \n",
              "1                                                0.0                         \n",
              "2                                                0.0                         \n",
              "3                                                0.0                         \n",
              "4                                                0.0                         \n",
              "\n",
              "   LastCheckupTime_Within past year (anytime less than 12 months ago)  ...  \\\n",
              "0                                                1.0                   ...   \n",
              "1                                                1.0                   ...   \n",
              "2                                                1.0                   ...   \n",
              "3                                                1.0                   ...   \n",
              "4                                                1.0                   ...   \n",
              "\n",
              "   HighRiskLastYear_Yes  CovidPos_No  \\\n",
              "0                   0.0          1.0   \n",
              "1                   0.0          1.0   \n",
              "2                   0.0          0.0   \n",
              "3                   0.0          1.0   \n",
              "4                   0.0          1.0   \n",
              "\n",
              "   CovidPos_Tested positive using home test without a health professional  \\\n",
              "0                                                0.0                        \n",
              "1                                                0.0                        \n",
              "2                                                0.0                        \n",
              "3                                                0.0                        \n",
              "4                                                0.0                        \n",
              "\n",
              "   CovidPos_Yes  PhysicalHealthDays  MentalHealthDays  SleepHours  \\\n",
              "0           0.0           -0.491530         -0.515488    0.656772   \n",
              "1           0.0           -0.491530         -0.515488   -0.687687   \n",
              "2           1.0           -0.258523         -0.154541   -1.359916   \n",
              "3           0.0           -0.491530         -0.515488   -0.015457   \n",
              "4           0.0           -0.258523         -0.515488    1.329001   \n",
              "\n",
              "   HeightInMeters  WeightInKilograms       BMI  \n",
              "0       -0.024913          -0.103725 -0.156524  \n",
              "1       -0.989440          -0.725653 -0.296994  \n",
              "2       -1.278798          -0.947980 -0.451996  \n",
              "3       -0.507176          -0.947980 -0.824968  \n",
              "4       -1.278798          -1.414181 -1.072001  \n",
              "\n",
              "[5 rows x 64 columns]"
            ],
            "text/html": [
              "\n",
              "  <div id=\"df-f38bf6e6-ba9d-42d8-80da-e59390ef5976\" class=\"colab-df-container\">\n",
              "    <div>\n",
              "<style scoped>\n",
              "    .dataframe tbody tr th:only-of-type {\n",
              "        vertical-align: middle;\n",
              "    }\n",
              "\n",
              "    .dataframe tbody tr th {\n",
              "        vertical-align: top;\n",
              "    }\n",
              "\n",
              "    .dataframe thead th {\n",
              "        text-align: right;\n",
              "    }\n",
              "</style>\n",
              "<table border=\"1\" class=\"dataframe\">\n",
              "  <thead>\n",
              "    <tr style=\"text-align: right;\">\n",
              "      <th></th>\n",
              "      <th>Sex_Male</th>\n",
              "      <th>GeneralHealth_Excellent</th>\n",
              "      <th>GeneralHealth_Fair</th>\n",
              "      <th>GeneralHealth_Good</th>\n",
              "      <th>GeneralHealth_Poor</th>\n",
              "      <th>GeneralHealth_Very good</th>\n",
              "      <th>LastCheckupTime_5 or more years ago</th>\n",
              "      <th>LastCheckupTime_Within past 2 years (1 year but less than 2 years ago)</th>\n",
              "      <th>LastCheckupTime_Within past 5 years (2 years but less than 5 years ago)</th>\n",
              "      <th>LastCheckupTime_Within past year (anytime less than 12 months ago)</th>\n",
              "      <th>...</th>\n",
              "      <th>HighRiskLastYear_Yes</th>\n",
              "      <th>CovidPos_No</th>\n",
              "      <th>CovidPos_Tested positive using home test without a health professional</th>\n",
              "      <th>CovidPos_Yes</th>\n",
              "      <th>PhysicalHealthDays</th>\n",
              "      <th>MentalHealthDays</th>\n",
              "      <th>SleepHours</th>\n",
              "      <th>HeightInMeters</th>\n",
              "      <th>WeightInKilograms</th>\n",
              "      <th>BMI</th>\n",
              "    </tr>\n",
              "  </thead>\n",
              "  <tbody>\n",
              "    <tr>\n",
              "      <th>0</th>\n",
              "      <td>0.0</td>\n",
              "      <td>0.0</td>\n",
              "      <td>0.0</td>\n",
              "      <td>0.0</td>\n",
              "      <td>0.0</td>\n",
              "      <td>1.0</td>\n",
              "      <td>0.0</td>\n",
              "      <td>0.0</td>\n",
              "      <td>0.0</td>\n",
              "      <td>1.0</td>\n",
              "      <td>...</td>\n",
              "      <td>0.0</td>\n",
              "      <td>1.0</td>\n",
              "      <td>0.0</td>\n",
              "      <td>0.0</td>\n",
              "      <td>-0.491530</td>\n",
              "      <td>-0.515488</td>\n",
              "      <td>0.656772</td>\n",
              "      <td>-0.024913</td>\n",
              "      <td>-0.103725</td>\n",
              "      <td>-0.156524</td>\n",
              "    </tr>\n",
              "    <tr>\n",
              "      <th>1</th>\n",
              "      <td>0.0</td>\n",
              "      <td>1.0</td>\n",
              "      <td>0.0</td>\n",
              "      <td>0.0</td>\n",
              "      <td>0.0</td>\n",
              "      <td>0.0</td>\n",
              "      <td>0.0</td>\n",
              "      <td>0.0</td>\n",
              "      <td>0.0</td>\n",
              "      <td>1.0</td>\n",
              "      <td>...</td>\n",
              "      <td>0.0</td>\n",
              "      <td>1.0</td>\n",
              "      <td>0.0</td>\n",
              "      <td>0.0</td>\n",
              "      <td>-0.491530</td>\n",
              "      <td>-0.515488</td>\n",
              "      <td>-0.687687</td>\n",
              "      <td>-0.989440</td>\n",
              "      <td>-0.725653</td>\n",
              "      <td>-0.296994</td>\n",
              "    </tr>\n",
              "    <tr>\n",
              "      <th>2</th>\n",
              "      <td>0.0</td>\n",
              "      <td>0.0</td>\n",
              "      <td>0.0</td>\n",
              "      <td>0.0</td>\n",
              "      <td>0.0</td>\n",
              "      <td>1.0</td>\n",
              "      <td>0.0</td>\n",
              "      <td>0.0</td>\n",
              "      <td>0.0</td>\n",
              "      <td>1.0</td>\n",
              "      <td>...</td>\n",
              "      <td>0.0</td>\n",
              "      <td>0.0</td>\n",
              "      <td>0.0</td>\n",
              "      <td>1.0</td>\n",
              "      <td>-0.258523</td>\n",
              "      <td>-0.154541</td>\n",
              "      <td>-1.359916</td>\n",
              "      <td>-1.278798</td>\n",
              "      <td>-0.947980</td>\n",
              "      <td>-0.451996</td>\n",
              "    </tr>\n",
              "    <tr>\n",
              "      <th>3</th>\n",
              "      <td>0.0</td>\n",
              "      <td>1.0</td>\n",
              "      <td>0.0</td>\n",
              "      <td>0.0</td>\n",
              "      <td>0.0</td>\n",
              "      <td>0.0</td>\n",
              "      <td>0.0</td>\n",
              "      <td>0.0</td>\n",
              "      <td>0.0</td>\n",
              "      <td>1.0</td>\n",
              "      <td>...</td>\n",
              "      <td>0.0</td>\n",
              "      <td>1.0</td>\n",
              "      <td>0.0</td>\n",
              "      <td>0.0</td>\n",
              "      <td>-0.491530</td>\n",
              "      <td>-0.515488</td>\n",
              "      <td>-0.015457</td>\n",
              "      <td>-0.507176</td>\n",
              "      <td>-0.947980</td>\n",
              "      <td>-0.824968</td>\n",
              "    </tr>\n",
              "    <tr>\n",
              "      <th>4</th>\n",
              "      <td>0.0</td>\n",
              "      <td>0.0</td>\n",
              "      <td>1.0</td>\n",
              "      <td>0.0</td>\n",
              "      <td>0.0</td>\n",
              "      <td>0.0</td>\n",
              "      <td>0.0</td>\n",
              "      <td>0.0</td>\n",
              "      <td>0.0</td>\n",
              "      <td>1.0</td>\n",
              "      <td>...</td>\n",
              "      <td>0.0</td>\n",
              "      <td>1.0</td>\n",
              "      <td>0.0</td>\n",
              "      <td>0.0</td>\n",
              "      <td>-0.258523</td>\n",
              "      <td>-0.515488</td>\n",
              "      <td>1.329001</td>\n",
              "      <td>-1.278798</td>\n",
              "      <td>-1.414181</td>\n",
              "      <td>-1.072001</td>\n",
              "    </tr>\n",
              "  </tbody>\n",
              "</table>\n",
              "<p>5 rows × 64 columns</p>\n",
              "</div>\n",
              "    <div class=\"colab-df-buttons\">\n",
              "\n",
              "  <div class=\"colab-df-container\">\n",
              "    <button class=\"colab-df-convert\" onclick=\"convertToInteractive('df-f38bf6e6-ba9d-42d8-80da-e59390ef5976')\"\n",
              "            title=\"Convert this dataframe to an interactive table.\"\n",
              "            style=\"display:none;\">\n",
              "\n",
              "  <svg xmlns=\"http://www.w3.org/2000/svg\" height=\"24px\" viewBox=\"0 -960 960 960\">\n",
              "    <path d=\"M120-120v-720h720v720H120Zm60-500h600v-160H180v160Zm220 220h160v-160H400v160Zm0 220h160v-160H400v160ZM180-400h160v-160H180v160Zm440 0h160v-160H620v160ZM180-180h160v-160H180v160Zm440 0h160v-160H620v160Z\"/>\n",
              "  </svg>\n",
              "    </button>\n",
              "\n",
              "  <style>\n",
              "    .colab-df-container {\n",
              "      display:flex;\n",
              "      gap: 12px;\n",
              "    }\n",
              "\n",
              "    .colab-df-convert {\n",
              "      background-color: #E8F0FE;\n",
              "      border: none;\n",
              "      border-radius: 50%;\n",
              "      cursor: pointer;\n",
              "      display: none;\n",
              "      fill: #1967D2;\n",
              "      height: 32px;\n",
              "      padding: 0 0 0 0;\n",
              "      width: 32px;\n",
              "    }\n",
              "\n",
              "    .colab-df-convert:hover {\n",
              "      background-color: #E2EBFA;\n",
              "      box-shadow: 0px 1px 2px rgba(60, 64, 67, 0.3), 0px 1px 3px 1px rgba(60, 64, 67, 0.15);\n",
              "      fill: #174EA6;\n",
              "    }\n",
              "\n",
              "    .colab-df-buttons div {\n",
              "      margin-bottom: 4px;\n",
              "    }\n",
              "\n",
              "    [theme=dark] .colab-df-convert {\n",
              "      background-color: #3B4455;\n",
              "      fill: #D2E3FC;\n",
              "    }\n",
              "\n",
              "    [theme=dark] .colab-df-convert:hover {\n",
              "      background-color: #434B5C;\n",
              "      box-shadow: 0px 1px 3px 1px rgba(0, 0, 0, 0.15);\n",
              "      filter: drop-shadow(0px 1px 2px rgba(0, 0, 0, 0.3));\n",
              "      fill: #FFFFFF;\n",
              "    }\n",
              "  </style>\n",
              "\n",
              "    <script>\n",
              "      const buttonEl =\n",
              "        document.querySelector('#df-f38bf6e6-ba9d-42d8-80da-e59390ef5976 button.colab-df-convert');\n",
              "      buttonEl.style.display =\n",
              "        google.colab.kernel.accessAllowed ? 'block' : 'none';\n",
              "\n",
              "      async function convertToInteractive(key) {\n",
              "        const element = document.querySelector('#df-f38bf6e6-ba9d-42d8-80da-e59390ef5976');\n",
              "        const dataTable =\n",
              "          await google.colab.kernel.invokeFunction('convertToInteractive',\n",
              "                                                    [key], {});\n",
              "        if (!dataTable) return;\n",
              "\n",
              "        const docLinkHtml = 'Like what you see? Visit the ' +\n",
              "          '<a target=\"_blank\" href=https://colab.research.google.com/notebooks/data_table.ipynb>data table notebook</a>'\n",
              "          + ' to learn more about interactive tables.';\n",
              "        element.innerHTML = '';\n",
              "        dataTable['output_type'] = 'display_data';\n",
              "        await google.colab.output.renderOutput(dataTable, element);\n",
              "        const docLink = document.createElement('div');\n",
              "        docLink.innerHTML = docLinkHtml;\n",
              "        element.appendChild(docLink);\n",
              "      }\n",
              "    </script>\n",
              "  </div>\n",
              "\n",
              "\n",
              "<div id=\"df-bc73f20c-9131-4509-ad79-54ef0a381642\">\n",
              "  <button class=\"colab-df-quickchart\" onclick=\"quickchart('df-bc73f20c-9131-4509-ad79-54ef0a381642')\"\n",
              "            title=\"Suggest charts\"\n",
              "            style=\"display:none;\">\n",
              "\n",
              "<svg xmlns=\"http://www.w3.org/2000/svg\" height=\"24px\"viewBox=\"0 0 24 24\"\n",
              "     width=\"24px\">\n",
              "    <g>\n",
              "        <path d=\"M19 3H5c-1.1 0-2 .9-2 2v14c0 1.1.9 2 2 2h14c1.1 0 2-.9 2-2V5c0-1.1-.9-2-2-2zM9 17H7v-7h2v7zm4 0h-2V7h2v10zm4 0h-2v-4h2v4z\"/>\n",
              "    </g>\n",
              "</svg>\n",
              "  </button>\n",
              "\n",
              "<style>\n",
              "  .colab-df-quickchart {\n",
              "      --bg-color: #E8F0FE;\n",
              "      --fill-color: #1967D2;\n",
              "      --hover-bg-color: #E2EBFA;\n",
              "      --hover-fill-color: #174EA6;\n",
              "      --disabled-fill-color: #AAA;\n",
              "      --disabled-bg-color: #DDD;\n",
              "  }\n",
              "\n",
              "  [theme=dark] .colab-df-quickchart {\n",
              "      --bg-color: #3B4455;\n",
              "      --fill-color: #D2E3FC;\n",
              "      --hover-bg-color: #434B5C;\n",
              "      --hover-fill-color: #FFFFFF;\n",
              "      --disabled-bg-color: #3B4455;\n",
              "      --disabled-fill-color: #666;\n",
              "  }\n",
              "\n",
              "  .colab-df-quickchart {\n",
              "    background-color: var(--bg-color);\n",
              "    border: none;\n",
              "    border-radius: 50%;\n",
              "    cursor: pointer;\n",
              "    display: none;\n",
              "    fill: var(--fill-color);\n",
              "    height: 32px;\n",
              "    padding: 0;\n",
              "    width: 32px;\n",
              "  }\n",
              "\n",
              "  .colab-df-quickchart:hover {\n",
              "    background-color: var(--hover-bg-color);\n",
              "    box-shadow: 0 1px 2px rgba(60, 64, 67, 0.3), 0 1px 3px 1px rgba(60, 64, 67, 0.15);\n",
              "    fill: var(--button-hover-fill-color);\n",
              "  }\n",
              "\n",
              "  .colab-df-quickchart-complete:disabled,\n",
              "  .colab-df-quickchart-complete:disabled:hover {\n",
              "    background-color: var(--disabled-bg-color);\n",
              "    fill: var(--disabled-fill-color);\n",
              "    box-shadow: none;\n",
              "  }\n",
              "\n",
              "  .colab-df-spinner {\n",
              "    border: 2px solid var(--fill-color);\n",
              "    border-color: transparent;\n",
              "    border-bottom-color: var(--fill-color);\n",
              "    animation:\n",
              "      spin 1s steps(1) infinite;\n",
              "  }\n",
              "\n",
              "  @keyframes spin {\n",
              "    0% {\n",
              "      border-color: transparent;\n",
              "      border-bottom-color: var(--fill-color);\n",
              "      border-left-color: var(--fill-color);\n",
              "    }\n",
              "    20% {\n",
              "      border-color: transparent;\n",
              "      border-left-color: var(--fill-color);\n",
              "      border-top-color: var(--fill-color);\n",
              "    }\n",
              "    30% {\n",
              "      border-color: transparent;\n",
              "      border-left-color: var(--fill-color);\n",
              "      border-top-color: var(--fill-color);\n",
              "      border-right-color: var(--fill-color);\n",
              "    }\n",
              "    40% {\n",
              "      border-color: transparent;\n",
              "      border-right-color: var(--fill-color);\n",
              "      border-top-color: var(--fill-color);\n",
              "    }\n",
              "    60% {\n",
              "      border-color: transparent;\n",
              "      border-right-color: var(--fill-color);\n",
              "    }\n",
              "    80% {\n",
              "      border-color: transparent;\n",
              "      border-right-color: var(--fill-color);\n",
              "      border-bottom-color: var(--fill-color);\n",
              "    }\n",
              "    90% {\n",
              "      border-color: transparent;\n",
              "      border-bottom-color: var(--fill-color);\n",
              "    }\n",
              "  }\n",
              "</style>\n",
              "\n",
              "  <script>\n",
              "    async function quickchart(key) {\n",
              "      const quickchartButtonEl =\n",
              "        document.querySelector('#' + key + ' button');\n",
              "      quickchartButtonEl.disabled = true;  // To prevent multiple clicks.\n",
              "      quickchartButtonEl.classList.add('colab-df-spinner');\n",
              "      try {\n",
              "        const charts = await google.colab.kernel.invokeFunction(\n",
              "            'suggestCharts', [key], {});\n",
              "      } catch (error) {\n",
              "        console.error('Error during call to suggestCharts:', error);\n",
              "      }\n",
              "      quickchartButtonEl.classList.remove('colab-df-spinner');\n",
              "      quickchartButtonEl.classList.add('colab-df-quickchart-complete');\n",
              "    }\n",
              "    (() => {\n",
              "      let quickchartButtonEl =\n",
              "        document.querySelector('#df-bc73f20c-9131-4509-ad79-54ef0a381642 button');\n",
              "      quickchartButtonEl.style.display =\n",
              "        google.colab.kernel.accessAllowed ? 'block' : 'none';\n",
              "    })();\n",
              "  </script>\n",
              "</div>\n",
              "    </div>\n",
              "  </div>\n"
            ]
          },
          "metadata": {},
          "execution_count": 35
        }
      ]
    },
    {
      "cell_type": "code",
      "source": [
        "data.describe()"
      ],
      "metadata": {
        "colab": {
          "base_uri": "https://localhost:8080/",
          "height": 436
        },
        "id": "s20WKC7xMNgF",
        "outputId": "541825e7-df23-498c-ca0c-7071bc293e37"
      },
      "execution_count": 416,
      "outputs": [
        {
          "output_type": "execute_result",
          "data": {
            "text/plain": [
              "            Sex_Male  GeneralHealth_Excellent  GeneralHealth_Fair  \\\n",
              "count  442067.000000            442067.000000       442067.000000   \n",
              "mean        0.469494                 0.162018            0.134658   \n",
              "std         0.499069                 0.368468            0.341359   \n",
              "min         0.000000                 0.000000            0.000000   \n",
              "25%         0.000000                 0.000000            0.000000   \n",
              "50%         0.000000                 0.000000            0.000000   \n",
              "75%         1.000000                 0.000000            0.000000   \n",
              "max         1.000000                 1.000000            1.000000   \n",
              "\n",
              "       GeneralHealth_Good  GeneralHealth_Poor  GeneralHealth_Very good  \\\n",
              "count       442067.000000       442067.000000            442067.000000   \n",
              "mean             0.322462            0.043668                 0.337193   \n",
              "std              0.467419            0.204355                 0.472752   \n",
              "min              0.000000            0.000000                 0.000000   \n",
              "25%              0.000000            0.000000                 0.000000   \n",
              "50%              0.000000            0.000000                 0.000000   \n",
              "75%              1.000000            0.000000                 1.000000   \n",
              "max              1.000000            1.000000                 1.000000   \n",
              "\n",
              "       LastCheckupTime_5 or more years ago  \\\n",
              "count                        442067.000000   \n",
              "mean                              0.042849   \n",
              "std                               0.202516   \n",
              "min                               0.000000   \n",
              "25%                               0.000000   \n",
              "50%                               0.000000   \n",
              "75%                               0.000000   \n",
              "max                               1.000000   \n",
              "\n",
              "       LastCheckupTime_Within past 2 years (1 year but less than 2 years ago)  \\\n",
              "count                                      442067.000000                        \n",
              "mean                                            0.094305                        \n",
              "std                                             0.292253                        \n",
              "min                                             0.000000                        \n",
              "25%                                             0.000000                        \n",
              "50%                                             0.000000                        \n",
              "75%                                             0.000000                        \n",
              "max                                             1.000000                        \n",
              "\n",
              "       LastCheckupTime_Within past 5 years (2 years but less than 5 years ago)  \\\n",
              "count                                      442067.000000                         \n",
              "mean                                            0.055969                         \n",
              "std                                             0.229862                         \n",
              "min                                             0.000000                         \n",
              "25%                                             0.000000                         \n",
              "50%                                             0.000000                         \n",
              "75%                                             0.000000                         \n",
              "max                                             1.000000                         \n",
              "\n",
              "       LastCheckupTime_Within past year (anytime less than 12 months ago)  \\\n",
              "count                                      442067.000000                    \n",
              "mean                                            0.806878                    \n",
              "std                                             0.394749                    \n",
              "min                                             0.000000                    \n",
              "25%                                             1.000000                    \n",
              "50%                                             1.000000                    \n",
              "75%                                             1.000000                    \n",
              "max                                             1.000000                    \n",
              "\n",
              "       ...  HighRiskLastYear_Yes    CovidPos_No  \\\n",
              "count  ...          442067.00000  442067.000000   \n",
              "mean   ...               0.03865       0.720237   \n",
              "std    ...               0.19276       0.448883   \n",
              "min    ...               0.00000       0.000000   \n",
              "25%    ...               0.00000       0.000000   \n",
              "50%    ...               0.00000       1.000000   \n",
              "75%    ...               0.00000       1.000000   \n",
              "max    ...               1.00000       1.000000   \n",
              "\n",
              "       CovidPos_Tested positive using home test without a health professional  \\\n",
              "count                                      442067.000000                        \n",
              "mean                                            0.030278                        \n",
              "std                                             0.171352                        \n",
              "min                                             0.000000                        \n",
              "25%                                             0.000000                        \n",
              "50%                                             0.000000                        \n",
              "75%                                             0.000000                        \n",
              "max                                             1.000000                        \n",
              "\n",
              "        CovidPos_Yes  PhysicalHealthDays  MentalHealthDays    SleepHours  \\\n",
              "count  442067.000000        4.420670e+05      4.420670e+05  4.420670e+05   \n",
              "mean        0.249485       -1.337289e-17     -6.917901e-17  6.300691e-17   \n",
              "std         0.432715        1.000001e+00      1.000001e+00  1.000001e+00   \n",
              "min         0.000000       -4.915301e-01     -5.154879e-01 -4.048834e+00   \n",
              "25%         0.000000       -4.915301e-01     -5.154879e-01 -6.876868e-01   \n",
              "50%         0.000000       -4.915301e-01     -5.154879e-01 -1.545741e-02   \n",
              "75%         0.000000       -1.420199e-01     -3.422568e-02  6.567720e-01   \n",
              "max         1.000000        3.003572e+00      3.093979e+00  1.141244e+01   \n",
              "\n",
              "       HeightInMeters  WeightInKilograms           BMI  \n",
              "count    4.420670e+05       4.420670e+05  4.420670e+05  \n",
              "mean     2.678694e-15      -1.959643e-16 -3.642828e-16  \n",
              "std      1.000001e+00       1.000001e+00  1.000001e+00  \n",
              "min     -7.644678e+00      -2.946964e+00 -2.646235e+00  \n",
              "25%     -7.000818e-01      -7.256529e-01 -6.457475e-01  \n",
              "50%     -2.491267e-02      -1.037249e-01 -1.565241e-01  \n",
              "75%      7.467092e-01       4.295660e-01  4.198875e-01  \n",
              "max      6.823231e+00       1.026974e+01  1.150088e+01  \n",
              "\n",
              "[8 rows x 64 columns]"
            ],
            "text/html": [
              "\n",
              "  <div id=\"df-4ac4ce79-8d19-4fde-b82d-9a1039e62c5d\" class=\"colab-df-container\">\n",
              "    <div>\n",
              "<style scoped>\n",
              "    .dataframe tbody tr th:only-of-type {\n",
              "        vertical-align: middle;\n",
              "    }\n",
              "\n",
              "    .dataframe tbody tr th {\n",
              "        vertical-align: top;\n",
              "    }\n",
              "\n",
              "    .dataframe thead th {\n",
              "        text-align: right;\n",
              "    }\n",
              "</style>\n",
              "<table border=\"1\" class=\"dataframe\">\n",
              "  <thead>\n",
              "    <tr style=\"text-align: right;\">\n",
              "      <th></th>\n",
              "      <th>Sex_Male</th>\n",
              "      <th>GeneralHealth_Excellent</th>\n",
              "      <th>GeneralHealth_Fair</th>\n",
              "      <th>GeneralHealth_Good</th>\n",
              "      <th>GeneralHealth_Poor</th>\n",
              "      <th>GeneralHealth_Very good</th>\n",
              "      <th>LastCheckupTime_5 or more years ago</th>\n",
              "      <th>LastCheckupTime_Within past 2 years (1 year but less than 2 years ago)</th>\n",
              "      <th>LastCheckupTime_Within past 5 years (2 years but less than 5 years ago)</th>\n",
              "      <th>LastCheckupTime_Within past year (anytime less than 12 months ago)</th>\n",
              "      <th>...</th>\n",
              "      <th>HighRiskLastYear_Yes</th>\n",
              "      <th>CovidPos_No</th>\n",
              "      <th>CovidPos_Tested positive using home test without a health professional</th>\n",
              "      <th>CovidPos_Yes</th>\n",
              "      <th>PhysicalHealthDays</th>\n",
              "      <th>MentalHealthDays</th>\n",
              "      <th>SleepHours</th>\n",
              "      <th>HeightInMeters</th>\n",
              "      <th>WeightInKilograms</th>\n",
              "      <th>BMI</th>\n",
              "    </tr>\n",
              "  </thead>\n",
              "  <tbody>\n",
              "    <tr>\n",
              "      <th>count</th>\n",
              "      <td>442067.000000</td>\n",
              "      <td>442067.000000</td>\n",
              "      <td>442067.000000</td>\n",
              "      <td>442067.000000</td>\n",
              "      <td>442067.000000</td>\n",
              "      <td>442067.000000</td>\n",
              "      <td>442067.000000</td>\n",
              "      <td>442067.000000</td>\n",
              "      <td>442067.000000</td>\n",
              "      <td>442067.000000</td>\n",
              "      <td>...</td>\n",
              "      <td>442067.00000</td>\n",
              "      <td>442067.000000</td>\n",
              "      <td>442067.000000</td>\n",
              "      <td>442067.000000</td>\n",
              "      <td>4.420670e+05</td>\n",
              "      <td>4.420670e+05</td>\n",
              "      <td>4.420670e+05</td>\n",
              "      <td>4.420670e+05</td>\n",
              "      <td>4.420670e+05</td>\n",
              "      <td>4.420670e+05</td>\n",
              "    </tr>\n",
              "    <tr>\n",
              "      <th>mean</th>\n",
              "      <td>0.469494</td>\n",
              "      <td>0.162018</td>\n",
              "      <td>0.134658</td>\n",
              "      <td>0.322462</td>\n",
              "      <td>0.043668</td>\n",
              "      <td>0.337193</td>\n",
              "      <td>0.042849</td>\n",
              "      <td>0.094305</td>\n",
              "      <td>0.055969</td>\n",
              "      <td>0.806878</td>\n",
              "      <td>...</td>\n",
              "      <td>0.03865</td>\n",
              "      <td>0.720237</td>\n",
              "      <td>0.030278</td>\n",
              "      <td>0.249485</td>\n",
              "      <td>-1.337289e-17</td>\n",
              "      <td>-6.917901e-17</td>\n",
              "      <td>6.300691e-17</td>\n",
              "      <td>2.678694e-15</td>\n",
              "      <td>-1.959643e-16</td>\n",
              "      <td>-3.642828e-16</td>\n",
              "    </tr>\n",
              "    <tr>\n",
              "      <th>std</th>\n",
              "      <td>0.499069</td>\n",
              "      <td>0.368468</td>\n",
              "      <td>0.341359</td>\n",
              "      <td>0.467419</td>\n",
              "      <td>0.204355</td>\n",
              "      <td>0.472752</td>\n",
              "      <td>0.202516</td>\n",
              "      <td>0.292253</td>\n",
              "      <td>0.229862</td>\n",
              "      <td>0.394749</td>\n",
              "      <td>...</td>\n",
              "      <td>0.19276</td>\n",
              "      <td>0.448883</td>\n",
              "      <td>0.171352</td>\n",
              "      <td>0.432715</td>\n",
              "      <td>1.000001e+00</td>\n",
              "      <td>1.000001e+00</td>\n",
              "      <td>1.000001e+00</td>\n",
              "      <td>1.000001e+00</td>\n",
              "      <td>1.000001e+00</td>\n",
              "      <td>1.000001e+00</td>\n",
              "    </tr>\n",
              "    <tr>\n",
              "      <th>min</th>\n",
              "      <td>0.000000</td>\n",
              "      <td>0.000000</td>\n",
              "      <td>0.000000</td>\n",
              "      <td>0.000000</td>\n",
              "      <td>0.000000</td>\n",
              "      <td>0.000000</td>\n",
              "      <td>0.000000</td>\n",
              "      <td>0.000000</td>\n",
              "      <td>0.000000</td>\n",
              "      <td>0.000000</td>\n",
              "      <td>...</td>\n",
              "      <td>0.00000</td>\n",
              "      <td>0.000000</td>\n",
              "      <td>0.000000</td>\n",
              "      <td>0.000000</td>\n",
              "      <td>-4.915301e-01</td>\n",
              "      <td>-5.154879e-01</td>\n",
              "      <td>-4.048834e+00</td>\n",
              "      <td>-7.644678e+00</td>\n",
              "      <td>-2.946964e+00</td>\n",
              "      <td>-2.646235e+00</td>\n",
              "    </tr>\n",
              "    <tr>\n",
              "      <th>25%</th>\n",
              "      <td>0.000000</td>\n",
              "      <td>0.000000</td>\n",
              "      <td>0.000000</td>\n",
              "      <td>0.000000</td>\n",
              "      <td>0.000000</td>\n",
              "      <td>0.000000</td>\n",
              "      <td>0.000000</td>\n",
              "      <td>0.000000</td>\n",
              "      <td>0.000000</td>\n",
              "      <td>1.000000</td>\n",
              "      <td>...</td>\n",
              "      <td>0.00000</td>\n",
              "      <td>0.000000</td>\n",
              "      <td>0.000000</td>\n",
              "      <td>0.000000</td>\n",
              "      <td>-4.915301e-01</td>\n",
              "      <td>-5.154879e-01</td>\n",
              "      <td>-6.876868e-01</td>\n",
              "      <td>-7.000818e-01</td>\n",
              "      <td>-7.256529e-01</td>\n",
              "      <td>-6.457475e-01</td>\n",
              "    </tr>\n",
              "    <tr>\n",
              "      <th>50%</th>\n",
              "      <td>0.000000</td>\n",
              "      <td>0.000000</td>\n",
              "      <td>0.000000</td>\n",
              "      <td>0.000000</td>\n",
              "      <td>0.000000</td>\n",
              "      <td>0.000000</td>\n",
              "      <td>0.000000</td>\n",
              "      <td>0.000000</td>\n",
              "      <td>0.000000</td>\n",
              "      <td>1.000000</td>\n",
              "      <td>...</td>\n",
              "      <td>0.00000</td>\n",
              "      <td>1.000000</td>\n",
              "      <td>0.000000</td>\n",
              "      <td>0.000000</td>\n",
              "      <td>-4.915301e-01</td>\n",
              "      <td>-5.154879e-01</td>\n",
              "      <td>-1.545741e-02</td>\n",
              "      <td>-2.491267e-02</td>\n",
              "      <td>-1.037249e-01</td>\n",
              "      <td>-1.565241e-01</td>\n",
              "    </tr>\n",
              "    <tr>\n",
              "      <th>75%</th>\n",
              "      <td>1.000000</td>\n",
              "      <td>0.000000</td>\n",
              "      <td>0.000000</td>\n",
              "      <td>1.000000</td>\n",
              "      <td>0.000000</td>\n",
              "      <td>1.000000</td>\n",
              "      <td>0.000000</td>\n",
              "      <td>0.000000</td>\n",
              "      <td>0.000000</td>\n",
              "      <td>1.000000</td>\n",
              "      <td>...</td>\n",
              "      <td>0.00000</td>\n",
              "      <td>1.000000</td>\n",
              "      <td>0.000000</td>\n",
              "      <td>0.000000</td>\n",
              "      <td>-1.420199e-01</td>\n",
              "      <td>-3.422568e-02</td>\n",
              "      <td>6.567720e-01</td>\n",
              "      <td>7.467092e-01</td>\n",
              "      <td>4.295660e-01</td>\n",
              "      <td>4.198875e-01</td>\n",
              "    </tr>\n",
              "    <tr>\n",
              "      <th>max</th>\n",
              "      <td>1.000000</td>\n",
              "      <td>1.000000</td>\n",
              "      <td>1.000000</td>\n",
              "      <td>1.000000</td>\n",
              "      <td>1.000000</td>\n",
              "      <td>1.000000</td>\n",
              "      <td>1.000000</td>\n",
              "      <td>1.000000</td>\n",
              "      <td>1.000000</td>\n",
              "      <td>1.000000</td>\n",
              "      <td>...</td>\n",
              "      <td>1.00000</td>\n",
              "      <td>1.000000</td>\n",
              "      <td>1.000000</td>\n",
              "      <td>1.000000</td>\n",
              "      <td>3.003572e+00</td>\n",
              "      <td>3.093979e+00</td>\n",
              "      <td>1.141244e+01</td>\n",
              "      <td>6.823231e+00</td>\n",
              "      <td>1.026974e+01</td>\n",
              "      <td>1.150088e+01</td>\n",
              "    </tr>\n",
              "  </tbody>\n",
              "</table>\n",
              "<p>8 rows × 64 columns</p>\n",
              "</div>\n",
              "    <div class=\"colab-df-buttons\">\n",
              "\n",
              "  <div class=\"colab-df-container\">\n",
              "    <button class=\"colab-df-convert\" onclick=\"convertToInteractive('df-4ac4ce79-8d19-4fde-b82d-9a1039e62c5d')\"\n",
              "            title=\"Convert this dataframe to an interactive table.\"\n",
              "            style=\"display:none;\">\n",
              "\n",
              "  <svg xmlns=\"http://www.w3.org/2000/svg\" height=\"24px\" viewBox=\"0 -960 960 960\">\n",
              "    <path d=\"M120-120v-720h720v720H120Zm60-500h600v-160H180v160Zm220 220h160v-160H400v160Zm0 220h160v-160H400v160ZM180-400h160v-160H180v160Zm440 0h160v-160H620v160ZM180-180h160v-160H180v160Zm440 0h160v-160H620v160Z\"/>\n",
              "  </svg>\n",
              "    </button>\n",
              "\n",
              "  <style>\n",
              "    .colab-df-container {\n",
              "      display:flex;\n",
              "      gap: 12px;\n",
              "    }\n",
              "\n",
              "    .colab-df-convert {\n",
              "      background-color: #E8F0FE;\n",
              "      border: none;\n",
              "      border-radius: 50%;\n",
              "      cursor: pointer;\n",
              "      display: none;\n",
              "      fill: #1967D2;\n",
              "      height: 32px;\n",
              "      padding: 0 0 0 0;\n",
              "      width: 32px;\n",
              "    }\n",
              "\n",
              "    .colab-df-convert:hover {\n",
              "      background-color: #E2EBFA;\n",
              "      box-shadow: 0px 1px 2px rgba(60, 64, 67, 0.3), 0px 1px 3px 1px rgba(60, 64, 67, 0.15);\n",
              "      fill: #174EA6;\n",
              "    }\n",
              "\n",
              "    .colab-df-buttons div {\n",
              "      margin-bottom: 4px;\n",
              "    }\n",
              "\n",
              "    [theme=dark] .colab-df-convert {\n",
              "      background-color: #3B4455;\n",
              "      fill: #D2E3FC;\n",
              "    }\n",
              "\n",
              "    [theme=dark] .colab-df-convert:hover {\n",
              "      background-color: #434B5C;\n",
              "      box-shadow: 0px 1px 3px 1px rgba(0, 0, 0, 0.15);\n",
              "      filter: drop-shadow(0px 1px 2px rgba(0, 0, 0, 0.3));\n",
              "      fill: #FFFFFF;\n",
              "    }\n",
              "  </style>\n",
              "\n",
              "    <script>\n",
              "      const buttonEl =\n",
              "        document.querySelector('#df-4ac4ce79-8d19-4fde-b82d-9a1039e62c5d button.colab-df-convert');\n",
              "      buttonEl.style.display =\n",
              "        google.colab.kernel.accessAllowed ? 'block' : 'none';\n",
              "\n",
              "      async function convertToInteractive(key) {\n",
              "        const element = document.querySelector('#df-4ac4ce79-8d19-4fde-b82d-9a1039e62c5d');\n",
              "        const dataTable =\n",
              "          await google.colab.kernel.invokeFunction('convertToInteractive',\n",
              "                                                    [key], {});\n",
              "        if (!dataTable) return;\n",
              "\n",
              "        const docLinkHtml = 'Like what you see? Visit the ' +\n",
              "          '<a target=\"_blank\" href=https://colab.research.google.com/notebooks/data_table.ipynb>data table notebook</a>'\n",
              "          + ' to learn more about interactive tables.';\n",
              "        element.innerHTML = '';\n",
              "        dataTable['output_type'] = 'display_data';\n",
              "        await google.colab.output.renderOutput(dataTable, element);\n",
              "        const docLink = document.createElement('div');\n",
              "        docLink.innerHTML = docLinkHtml;\n",
              "        element.appendChild(docLink);\n",
              "      }\n",
              "    </script>\n",
              "  </div>\n",
              "\n",
              "\n",
              "<div id=\"df-e6f18832-533f-4953-aa4a-2e31bdaead4b\">\n",
              "  <button class=\"colab-df-quickchart\" onclick=\"quickchart('df-e6f18832-533f-4953-aa4a-2e31bdaead4b')\"\n",
              "            title=\"Suggest charts\"\n",
              "            style=\"display:none;\">\n",
              "\n",
              "<svg xmlns=\"http://www.w3.org/2000/svg\" height=\"24px\"viewBox=\"0 0 24 24\"\n",
              "     width=\"24px\">\n",
              "    <g>\n",
              "        <path d=\"M19 3H5c-1.1 0-2 .9-2 2v14c0 1.1.9 2 2 2h14c1.1 0 2-.9 2-2V5c0-1.1-.9-2-2-2zM9 17H7v-7h2v7zm4 0h-2V7h2v10zm4 0h-2v-4h2v4z\"/>\n",
              "    </g>\n",
              "</svg>\n",
              "  </button>\n",
              "\n",
              "<style>\n",
              "  .colab-df-quickchart {\n",
              "      --bg-color: #E8F0FE;\n",
              "      --fill-color: #1967D2;\n",
              "      --hover-bg-color: #E2EBFA;\n",
              "      --hover-fill-color: #174EA6;\n",
              "      --disabled-fill-color: #AAA;\n",
              "      --disabled-bg-color: #DDD;\n",
              "  }\n",
              "\n",
              "  [theme=dark] .colab-df-quickchart {\n",
              "      --bg-color: #3B4455;\n",
              "      --fill-color: #D2E3FC;\n",
              "      --hover-bg-color: #434B5C;\n",
              "      --hover-fill-color: #FFFFFF;\n",
              "      --disabled-bg-color: #3B4455;\n",
              "      --disabled-fill-color: #666;\n",
              "  }\n",
              "\n",
              "  .colab-df-quickchart {\n",
              "    background-color: var(--bg-color);\n",
              "    border: none;\n",
              "    border-radius: 50%;\n",
              "    cursor: pointer;\n",
              "    display: none;\n",
              "    fill: var(--fill-color);\n",
              "    height: 32px;\n",
              "    padding: 0;\n",
              "    width: 32px;\n",
              "  }\n",
              "\n",
              "  .colab-df-quickchart:hover {\n",
              "    background-color: var(--hover-bg-color);\n",
              "    box-shadow: 0 1px 2px rgba(60, 64, 67, 0.3), 0 1px 3px 1px rgba(60, 64, 67, 0.15);\n",
              "    fill: var(--button-hover-fill-color);\n",
              "  }\n",
              "\n",
              "  .colab-df-quickchart-complete:disabled,\n",
              "  .colab-df-quickchart-complete:disabled:hover {\n",
              "    background-color: var(--disabled-bg-color);\n",
              "    fill: var(--disabled-fill-color);\n",
              "    box-shadow: none;\n",
              "  }\n",
              "\n",
              "  .colab-df-spinner {\n",
              "    border: 2px solid var(--fill-color);\n",
              "    border-color: transparent;\n",
              "    border-bottom-color: var(--fill-color);\n",
              "    animation:\n",
              "      spin 1s steps(1) infinite;\n",
              "  }\n",
              "\n",
              "  @keyframes spin {\n",
              "    0% {\n",
              "      border-color: transparent;\n",
              "      border-bottom-color: var(--fill-color);\n",
              "      border-left-color: var(--fill-color);\n",
              "    }\n",
              "    20% {\n",
              "      border-color: transparent;\n",
              "      border-left-color: var(--fill-color);\n",
              "      border-top-color: var(--fill-color);\n",
              "    }\n",
              "    30% {\n",
              "      border-color: transparent;\n",
              "      border-left-color: var(--fill-color);\n",
              "      border-top-color: var(--fill-color);\n",
              "      border-right-color: var(--fill-color);\n",
              "    }\n",
              "    40% {\n",
              "      border-color: transparent;\n",
              "      border-right-color: var(--fill-color);\n",
              "      border-top-color: var(--fill-color);\n",
              "    }\n",
              "    60% {\n",
              "      border-color: transparent;\n",
              "      border-right-color: var(--fill-color);\n",
              "    }\n",
              "    80% {\n",
              "      border-color: transparent;\n",
              "      border-right-color: var(--fill-color);\n",
              "      border-bottom-color: var(--fill-color);\n",
              "    }\n",
              "    90% {\n",
              "      border-color: transparent;\n",
              "      border-bottom-color: var(--fill-color);\n",
              "    }\n",
              "  }\n",
              "</style>\n",
              "\n",
              "  <script>\n",
              "    async function quickchart(key) {\n",
              "      const quickchartButtonEl =\n",
              "        document.querySelector('#' + key + ' button');\n",
              "      quickchartButtonEl.disabled = true;  // To prevent multiple clicks.\n",
              "      quickchartButtonEl.classList.add('colab-df-spinner');\n",
              "      try {\n",
              "        const charts = await google.colab.kernel.invokeFunction(\n",
              "            'suggestCharts', [key], {});\n",
              "      } catch (error) {\n",
              "        console.error('Error during call to suggestCharts:', error);\n",
              "      }\n",
              "      quickchartButtonEl.classList.remove('colab-df-spinner');\n",
              "      quickchartButtonEl.classList.add('colab-df-quickchart-complete');\n",
              "    }\n",
              "    (() => {\n",
              "      let quickchartButtonEl =\n",
              "        document.querySelector('#df-e6f18832-533f-4953-aa4a-2e31bdaead4b button');\n",
              "      quickchartButtonEl.style.display =\n",
              "        google.colab.kernel.accessAllowed ? 'block' : 'none';\n",
              "    })();\n",
              "  </script>\n",
              "</div>\n",
              "    </div>\n",
              "  </div>\n"
            ]
          },
          "metadata": {},
          "execution_count": 416
        }
      ]
    },
    {
      "cell_type": "markdown",
      "source": [
        "### 7. Разбиение данных на обучающую и тестовую выборки"
      ],
      "metadata": {
        "id": "XQX9HxpmM1dj"
      }
    },
    {
      "cell_type": "code",
      "source": [
        "data.info()"
      ],
      "metadata": {
        "colab": {
          "base_uri": "https://localhost:8080/"
        },
        "id": "fXHJ1nOBOwjI",
        "outputId": "4fcab8fb-adc1-4a22-fd72-358b2e4fa569"
      },
      "execution_count": 417,
      "outputs": [
        {
          "output_type": "stream",
          "name": "stdout",
          "text": [
            "<class 'pandas.core.frame.DataFrame'>\n",
            "Int64Index: 442067 entries, 0 to 445131\n",
            "Data columns (total 64 columns):\n",
            " #   Column                                                                   Non-Null Count   Dtype  \n",
            "---  ------                                                                   --------------   -----  \n",
            " 0   Sex_Male                                                                 442067 non-null  float64\n",
            " 1   GeneralHealth_Excellent                                                  442067 non-null  float64\n",
            " 2   GeneralHealth_Fair                                                       442067 non-null  float64\n",
            " 3   GeneralHealth_Good                                                       442067 non-null  float64\n",
            " 4   GeneralHealth_Poor                                                       442067 non-null  float64\n",
            " 5   GeneralHealth_Very good                                                  442067 non-null  float64\n",
            " 6   LastCheckupTime_5 or more years ago                                      442067 non-null  float64\n",
            " 7   LastCheckupTime_Within past 2 years (1 year but less than 2 years ago)   442067 non-null  float64\n",
            " 8   LastCheckupTime_Within past 5 years (2 years but less than 5 years ago)  442067 non-null  float64\n",
            " 9   LastCheckupTime_Within past year (anytime less than 12 months ago)       442067 non-null  float64\n",
            " 10  PhysicalActivities_Yes                                                   442067 non-null  float64\n",
            " 11  HadHeartAttack_Yes                                                       442067 non-null  float64\n",
            " 12  HadAngina_Yes                                                            442067 non-null  float64\n",
            " 13  HadStroke_Yes                                                            442067 non-null  float64\n",
            " 14  HadAsthma_Yes                                                            442067 non-null  float64\n",
            " 15  HadSkinCancer_Yes                                                        442067 non-null  float64\n",
            " 16  HadCOPD_Yes                                                              442067 non-null  float64\n",
            " 17  HadDepressiveDisorder_Yes                                                442067 non-null  float64\n",
            " 18  HadKidneyDisease_Yes                                                     442067 non-null  float64\n",
            " 19  HadArthritis_Yes                                                         442067 non-null  float64\n",
            " 20  HadDiabetes_No                                                           442067 non-null  float64\n",
            " 21  HadDiabetes_No, pre-diabetes or borderline diabetes                      442067 non-null  float64\n",
            " 22  HadDiabetes_Yes                                                          442067 non-null  float64\n",
            " 23  HadDiabetes_Yes, but only during pregnancy (female)                      442067 non-null  float64\n",
            " 24  DifficultyConcentrating_Yes                                              442067 non-null  float64\n",
            " 25  DifficultyWalking_Yes                                                    442067 non-null  float64\n",
            " 26  SmokerStatus_Current smoker - now smokes every day                       442067 non-null  float64\n",
            " 27  SmokerStatus_Current smoker - now smokes some days                       442067 non-null  float64\n",
            " 28  SmokerStatus_Former smoker                                               442067 non-null  float64\n",
            " 29  SmokerStatus_Never smoked                                                442067 non-null  float64\n",
            " 30  ECigaretteUsage_Never used e-cigarettes in my entire life                442067 non-null  float64\n",
            " 31  ECigaretteUsage_Not at all (right now)                                   442067 non-null  float64\n",
            " 32  ECigaretteUsage_Use them every day                                       442067 non-null  float64\n",
            " 33  ECigaretteUsage_Use them some days                                       442067 non-null  float64\n",
            " 34  ChestScan_Yes                                                            442067 non-null  float64\n",
            " 35  RaceEthnicityCategory_Black only, Non-Hispanic                           442067 non-null  float64\n",
            " 36  RaceEthnicityCategory_Hispanic                                           442067 non-null  float64\n",
            " 37  RaceEthnicityCategory_Multiracial, Non-Hispanic                          442067 non-null  float64\n",
            " 38  RaceEthnicityCategory_Other race only, Non-Hispanic                      442067 non-null  float64\n",
            " 39  RaceEthnicityCategory_White only, Non-Hispanic                           442067 non-null  float64\n",
            " 40  AgeCategory_Age 18 to 24                                                 442067 non-null  float64\n",
            " 41  AgeCategory_Age 25 to 29                                                 442067 non-null  float64\n",
            " 42  AgeCategory_Age 30 to 34                                                 442067 non-null  float64\n",
            " 43  AgeCategory_Age 35 to 39                                                 442067 non-null  float64\n",
            " 44  AgeCategory_Age 40 to 44                                                 442067 non-null  float64\n",
            " 45  AgeCategory_Age 45 to 49                                                 442067 non-null  float64\n",
            " 46  AgeCategory_Age 50 to 54                                                 442067 non-null  float64\n",
            " 47  AgeCategory_Age 55 to 59                                                 442067 non-null  float64\n",
            " 48  AgeCategory_Age 60 to 64                                                 442067 non-null  float64\n",
            " 49  AgeCategory_Age 65 to 69                                                 442067 non-null  float64\n",
            " 50  AgeCategory_Age 70 to 74                                                 442067 non-null  float64\n",
            " 51  AgeCategory_Age 75 to 79                                                 442067 non-null  float64\n",
            " 52  AgeCategory_Age 80 or older                                              442067 non-null  float64\n",
            " 53  AlcoholDrinkers_Yes                                                      442067 non-null  float64\n",
            " 54  HighRiskLastYear_Yes                                                     442067 non-null  float64\n",
            " 55  CovidPos_No                                                              442067 non-null  float64\n",
            " 56  CovidPos_Tested positive using home test without a health professional   442067 non-null  float64\n",
            " 57  CovidPos_Yes                                                             442067 non-null  float64\n",
            " 58  PhysicalHealthDays                                                       442067 non-null  float64\n",
            " 59  MentalHealthDays                                                         442067 non-null  float64\n",
            " 60  SleepHours                                                               442067 non-null  float64\n",
            " 61  HeightInMeters                                                           442067 non-null  float64\n",
            " 62  WeightInKilograms                                                        442067 non-null  float64\n",
            " 63  BMI                                                                      442067 non-null  float64\n",
            "dtypes: float64(64)\n",
            "memory usage: 219.2 MB\n"
          ]
        }
      ]
    },
    {
      "cell_type": "markdown",
      "source": [
        "Разобьем данные на обучающую и тестовую выборки в следующем соотношении: 80% - обучение, 20% - тест."
      ],
      "metadata": {
        "id": "FL4aatWbNX48"
      }
    },
    {
      "cell_type": "code",
      "source": [
        "y = data['HadHeartAttack_Yes'] # сохраняем данные о метках в отдельный вектор\n",
        "X = data # отбрасываем его из наших признаков\n",
        "X.drop('HadHeartAttack_Yes', axis=1)\n",
        "from sklearn.model_selection import train_test_split\n",
        "X_train, X_test, y_train, y_test = train_test_split(X, y, test_size = 0.2, random_state = 37)\n"
      ],
      "metadata": {
        "id": "dx9Nv5hHM8Lr"
      },
      "execution_count": 36,
      "outputs": []
    },
    {
      "cell_type": "markdown",
      "source": [
        "### 8. Обучение модели"
      ],
      "metadata": {
        "id": "0112HN_0PL4v"
      }
    },
    {
      "cell_type": "markdown",
      "source": [
        "Для обучения будем использовать метод k-ближайших соседей, который является одним из простейших методов решения задачи классфикации. Плюсом данного метода является простота понимания работы, его слабая чувствительность к выбросам. Минусом - чувствителен к дисбалансу в классах."
      ],
      "metadata": {
        "id": "dCz0cJ3XfN-i"
      }
    },
    {
      "cell_type": "code",
      "source": [
        "from sklearn.neighbors import KNeighborsClassifier\n",
        "from sklearn.metrics import accuracy_score, mean_squared_error"
      ],
      "metadata": {
        "id": "FpqWXs6qPOKW"
      },
      "execution_count": 37,
      "outputs": []
    },
    {
      "cell_type": "markdown",
      "source": [
        "Попробуем выбрать число соседей, равных 7"
      ],
      "metadata": {
        "id": "osF71Ib_gH6_"
      }
    },
    {
      "cell_type": "code",
      "source": [
        "knn = KNeighborsClassifier(n_neighbors = 7)\n",
        "knn.fit(X_train, y_train)\n",
        "y_train_predict = knn.predict(X_train)\n",
        "y_test_predict = knn.predict(X_test)"
      ],
      "metadata": {
        "id": "OQo1GRjkPXEQ"
      },
      "execution_count": 38,
      "outputs": []
    },
    {
      "cell_type": "code",
      "source": [
        "acc_train = accuracy_score(y_train, y_train_predict)\n",
        "mse_train = mean_squared_error(y_train, y_train_predict)\n",
        "acc_train, mse_train"
      ],
      "metadata": {
        "colab": {
          "base_uri": "https://localhost:8080/"
        },
        "id": "JVp1quDDc52-",
        "outputId": "de9ddc39-bca2-49aa-e340-11a53340785c"
      },
      "execution_count": 43,
      "outputs": [
        {
          "output_type": "execute_result",
          "data": {
            "text/plain": [
              "(0.9683192281699858, 0.031680771830014165)"
            ]
          },
          "metadata": {},
          "execution_count": 43
        }
      ]
    },
    {
      "cell_type": "code",
      "source": [
        "acc_test = accuracy_score(y_test, y_test_predict)\n",
        "mse_test = mean_squared_error(y_train, y_train_predict)\n",
        "acc_test, mse_test"
      ],
      "metadata": {
        "colab": {
          "base_uri": "https://localhost:8080/"
        },
        "id": "mrZLZL5MdEpx",
        "outputId": "4b0047fb-cbe1-4218-ad2a-cb00efeedac9"
      },
      "execution_count": 44,
      "outputs": [
        {
          "output_type": "execute_result",
          "data": {
            "text/plain": [
              "(0.9639876037731581, 0.031680771830014165)"
            ]
          },
          "metadata": {},
          "execution_count": 44
        }
      ]
    },
    {
      "cell_type": "markdown",
      "source": [
        "Попробуем выбрать число соседей, равных 5"
      ],
      "metadata": {
        "id": "jlo9lIYFgOym"
      }
    },
    {
      "cell_type": "code",
      "source": [
        "knn = KNeighborsClassifier(n_neighbors = 5)\n",
        "knn.fit(X_train, y_train)\n",
        "y_train_predict = knn.predict(X_train)\n",
        "y_test_predict = knn.predict(X_test)"
      ],
      "metadata": {
        "id": "9vtfNnBHgRFN"
      },
      "execution_count": 45,
      "outputs": []
    },
    {
      "cell_type": "code",
      "source": [
        "acc_train = accuracy_score(y_train, y_train_predict)\n",
        "mse_train = mean_squared_error(y_train, y_train_predict)\n",
        "acc_train, mse_train"
      ],
      "metadata": {
        "colab": {
          "base_uri": "https://localhost:8080/"
        },
        "id": "BOA0WZR1meAN",
        "outputId": "bde18cbd-b4db-4f80-c55d-1a3d56fcfdf6"
      },
      "execution_count": 46,
      "outputs": [
        {
          "output_type": "execute_result",
          "data": {
            "text/plain": [
              "(0.9720630109174813, 0.02793698908251874)"
            ]
          },
          "metadata": {},
          "execution_count": 46
        }
      ]
    },
    {
      "cell_type": "code",
      "source": [
        "acc_test = accuracy_score(y_test, y_test_predict)\n",
        "mse_test = mean_squared_error(y_train, y_train_predict)\n",
        "acc_test, mse_test"
      ],
      "metadata": {
        "colab": {
          "base_uri": "https://localhost:8080/"
        },
        "id": "lA2SXPMlmgBX",
        "outputId": "8ddb08da-911d-44f3-8a25-df6b0aa909aa"
      },
      "execution_count": 47,
      "outputs": [
        {
          "output_type": "execute_result",
          "data": {
            "text/plain": [
              "(0.9651073359422716, 0.02793698908251874)"
            ]
          },
          "metadata": {},
          "execution_count": 47
        }
      ]
    },
    {
      "cell_type": "markdown",
      "source": [
        "Попробуем выбрать число соседей, равных 10"
      ],
      "metadata": {
        "id": "dbRwyCGimso6"
      }
    },
    {
      "cell_type": "code",
      "source": [
        "knn = KNeighborsClassifier(n_neighbors = 10)\n",
        "knn.fit(X_train, y_train)\n",
        "y_train_predict = knn.predict(X_train)\n",
        "y_test_predict = knn.predict(X_test)"
      ],
      "metadata": {
        "id": "eY86jFjkmkYp"
      },
      "execution_count": 48,
      "outputs": []
    },
    {
      "cell_type": "code",
      "source": [
        "acc_train = accuracy_score(y_train, y_train_predict)\n",
        "mse_train = mean_squared_error(y_train, y_train_predict)\n",
        "acc_train, mse_train"
      ],
      "metadata": {
        "colab": {
          "base_uri": "https://localhost:8080/"
        },
        "id": "pp4jrrqKu1Z-",
        "outputId": "308ef1c5-d033-4b07-e036-3740f50e2517"
      },
      "execution_count": 49,
      "outputs": [
        {
          "output_type": "execute_result",
          "data": {
            "text/plain": [
              "(0.9609815270901138, 0.03901847290988624)"
            ]
          },
          "metadata": {},
          "execution_count": 49
        }
      ]
    },
    {
      "cell_type": "markdown",
      "source": [
        "### Выводы"
      ],
      "metadata": {
        "id": "-SUAnvG7k2sB"
      }
    },
    {
      "cell_type": "markdown",
      "source": [
        "* В среднем мужчины сталкиваются с сердечно-сосудистыми заболеваниями чаще, чем женщины.\n",
        "* Сердечно-сосудистым заболеваниям больше всего подвержены люди старше 80-ти лет, а так же люди, чей возраст находится в промежутке между 70-ью и 74-мя годами.\n",
        "* В среднем, проблемы с сердцем возникают в 2 раза чаще у физически неактивных людей, чем у активных.\n",
        "* Тот, кто никогда не курил сталкивается с сердечно-сосудистыми заболеваниями в 2 раза реже, чем тот, кто когда-либо это делал. Так же можно заметить, что бывшие курильщики и те, кто курит каждый день чаще других сталкиваются с проблемами с серцдем. С чем может быть связано то, что бывшие курильщики чаще подвержены риску возникновения сердечно-сосудистых заболеваний ? Возможно, бывшие курильщики - это те, кто из-за какого-либо заболевания, связанного с серцдем бросил курить и после этого стак активно следить за своим здоровьем, в том числе участвовать в такого рода опросах.\n",
        "* Количество сна в среднем не влияло на возникновение заболеваний.\n",
        "* Тот, кто не пьет алкоголь сталкивается с сердечно-сосудистыми заболеваниями почти в 2 раза реже, чем тот, кто пьет.\n",
        "* При решении задачи классификации использовался алгоритм k-ближайших соседей. Число k — это количество соседних объектов в пространстве признаков, которые сравниваются с классифицируемым объектом. K является гиперпараметром данного алгоритма и требует аккуратного подбора для достижения хорошей точности работы. Для этого могут использоваться эвристические методы, либо практические, как это сделали мы. В нашем случае, наилучшим выбором гиперпараметра k стало значение равное 5-ти. При таком значении удалось достигнуть значения MSE = 0.027, что является неплохим результатом, учитывая достаточно большое количество пропущенных значений и несбалансированность классов."
      ],
      "metadata": {
        "id": "TSKj8_m-k5bZ"
      }
    }
  ]
}